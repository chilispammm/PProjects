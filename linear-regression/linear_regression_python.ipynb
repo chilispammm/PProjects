{
  "metadata": {
    "kernelspec": {
      "display_name": "Python 3",
      "language": "python",
      "name": "python3"
    },
    "language_info": {
      "name": "python",
      "version": "3.6.6",
      "mimetype": "text/x-python",
      "codemirror_mode": {
        "name": "ipython",
        "version": 3
      },
      "pygments_lexer": "ipython3",
      "nbconvert_exporter": "python",
      "file_extension": ".py"
    },
    "kaggle": {
      "accelerator": "none",
      "dataSources": [
        {
          "sourceId": 395113,
          "sourceType": "datasetVersion",
          "datasetId": 175168
        }
      ],
      "dockerImageVersionId": 25114,
      "isInternetEnabled": false,
      "language": "python",
      "sourceType": "notebook",
      "isGpuEnabled": false
    },
    "colab": {
      "provenance": []
    }
  },
  "nbformat_minor": 0,
  "nbformat": 4,
  "cells": [
    {
      "cell_type": "markdown",
      "source": [
        "## Wayne Chilionje"
      ],
      "metadata": {
        "id": "yGHbY39wY2-m"
      }
    },
    {
      "cell_type": "markdown",
      "source": [],
      "metadata": {
        "id": "6IdJdpK4Zxf1"
      }
    },
    {
      "cell_type": "markdown",
      "source": [
        "### Business Goal\n",
        "\n",
        "You are required to model the price of cars with the available independent variables."
      ],
      "metadata": {
        "id": "W4lyGc4HXpx-"
      }
    },
    {
      "cell_type": "code",
      "source": [
        "import warnings\n",
        "warnings.filterwarnings('ignore')\n",
        "\n",
        "#importing the libraries\n",
        "import numpy as np\n",
        "import pandas as pd\n",
        "import matplotlib.pyplot as plt\n",
        "import seaborn as sns"
      ],
      "metadata": {
        "execution": {
          "iopub.status.busy": "2023-11-26T20:37:03.463639Z",
          "iopub.execute_input": "2023-11-26T20:37:03.464045Z",
          "iopub.status.idle": "2023-11-26T20:37:03.470067Z",
          "shell.execute_reply.started": "2023-11-26T20:37:03.463984Z",
          "shell.execute_reply": "2023-11-26T20:37:03.468837Z"
        },
        "trusted": true,
        "id": "lUIhralaXpx-"
      },
      "execution_count": null,
      "outputs": []
    },
    {
      "cell_type": "markdown",
      "source": [
        "### 1: Reading and Understanding the Data"
      ],
      "metadata": {
        "id": "PSInzyCSXpyA"
      }
    },
    {
      "cell_type": "code",
      "source": [
        "cars = pd.read_csv('../input/CarPrice_Assignment.csv')"
      ],
      "metadata": {
        "execution": {
          "iopub.status.busy": "2023-11-26T20:37:05.362034Z",
          "iopub.execute_input": "2023-11-26T20:37:05.362891Z",
          "iopub.status.idle": "2023-11-26T20:37:05.441001Z",
          "shell.execute_reply.started": "2023-11-26T20:37:05.362340Z",
          "shell.execute_reply": "2023-11-26T20:37:05.439756Z"
        },
        "trusted": true,
        "colab": {
          "base_uri": "https://localhost:8080/",
          "height": 338
        },
        "id": "IiYjtUkCXpyA",
        "outputId": "79d3fdb3-4974-4edb-8d20-a3e286ff244d"
      },
      "execution_count": null,
      "outputs": [
        {
          "output_type": "error",
          "ename": "FileNotFoundError",
          "evalue": "ignored",
          "traceback": [
            "\u001b[0;31m---------------------------------------------------------------------------\u001b[0m",
            "\u001b[0;31mFileNotFoundError\u001b[0m                         Traceback (most recent call last)",
            "\u001b[0;32m<ipython-input-4-29776a757470>\u001b[0m in \u001b[0;36m<cell line: 1>\u001b[0;34m()\u001b[0m\n\u001b[0;32m----> 1\u001b[0;31m \u001b[0mcars\u001b[0m \u001b[0;34m=\u001b[0m \u001b[0mpd\u001b[0m\u001b[0;34m.\u001b[0m\u001b[0mread_csv\u001b[0m\u001b[0;34m(\u001b[0m\u001b[0;34m'../input/CarPrice_Assignment.csv'\u001b[0m\u001b[0;34m)\u001b[0m\u001b[0;34m\u001b[0m\u001b[0;34m\u001b[0m\u001b[0m\n\u001b[0m\u001b[1;32m      2\u001b[0m \u001b[0mcars\u001b[0m\u001b[0;34m.\u001b[0m\u001b[0mhead\u001b[0m\u001b[0;34m(\u001b[0m\u001b[0;36m3\u001b[0m\u001b[0;34m)\u001b[0m\u001b[0;34m\u001b[0m\u001b[0;34m\u001b[0m\u001b[0m\n",
            "\u001b[0;32m/usr/local/lib/python3.10/dist-packages/pandas/util/_decorators.py\u001b[0m in \u001b[0;36mwrapper\u001b[0;34m(*args, **kwargs)\u001b[0m\n\u001b[1;32m    209\u001b[0m                 \u001b[0;32melse\u001b[0m\u001b[0;34m:\u001b[0m\u001b[0;34m\u001b[0m\u001b[0;34m\u001b[0m\u001b[0m\n\u001b[1;32m    210\u001b[0m                     \u001b[0mkwargs\u001b[0m\u001b[0;34m[\u001b[0m\u001b[0mnew_arg_name\u001b[0m\u001b[0;34m]\u001b[0m \u001b[0;34m=\u001b[0m \u001b[0mnew_arg_value\u001b[0m\u001b[0;34m\u001b[0m\u001b[0;34m\u001b[0m\u001b[0m\n\u001b[0;32m--> 211\u001b[0;31m             \u001b[0;32mreturn\u001b[0m \u001b[0mfunc\u001b[0m\u001b[0;34m(\u001b[0m\u001b[0;34m*\u001b[0m\u001b[0margs\u001b[0m\u001b[0;34m,\u001b[0m \u001b[0;34m**\u001b[0m\u001b[0mkwargs\u001b[0m\u001b[0;34m)\u001b[0m\u001b[0;34m\u001b[0m\u001b[0;34m\u001b[0m\u001b[0m\n\u001b[0m\u001b[1;32m    212\u001b[0m \u001b[0;34m\u001b[0m\u001b[0m\n\u001b[1;32m    213\u001b[0m         \u001b[0;32mreturn\u001b[0m \u001b[0mcast\u001b[0m\u001b[0;34m(\u001b[0m\u001b[0mF\u001b[0m\u001b[0;34m,\u001b[0m \u001b[0mwrapper\u001b[0m\u001b[0;34m)\u001b[0m\u001b[0;34m\u001b[0m\u001b[0;34m\u001b[0m\u001b[0m\n",
            "\u001b[0;32m/usr/local/lib/python3.10/dist-packages/pandas/util/_decorators.py\u001b[0m in \u001b[0;36mwrapper\u001b[0;34m(*args, **kwargs)\u001b[0m\n\u001b[1;32m    329\u001b[0m                     \u001b[0mstacklevel\u001b[0m\u001b[0;34m=\u001b[0m\u001b[0mfind_stack_level\u001b[0m\u001b[0;34m(\u001b[0m\u001b[0;34m)\u001b[0m\u001b[0;34m,\u001b[0m\u001b[0;34m\u001b[0m\u001b[0;34m\u001b[0m\u001b[0m\n\u001b[1;32m    330\u001b[0m                 )\n\u001b[0;32m--> 331\u001b[0;31m             \u001b[0;32mreturn\u001b[0m \u001b[0mfunc\u001b[0m\u001b[0;34m(\u001b[0m\u001b[0;34m*\u001b[0m\u001b[0margs\u001b[0m\u001b[0;34m,\u001b[0m \u001b[0;34m**\u001b[0m\u001b[0mkwargs\u001b[0m\u001b[0;34m)\u001b[0m\u001b[0;34m\u001b[0m\u001b[0;34m\u001b[0m\u001b[0m\n\u001b[0m\u001b[1;32m    332\u001b[0m \u001b[0;34m\u001b[0m\u001b[0m\n\u001b[1;32m    333\u001b[0m         \u001b[0;31m# error: \"Callable[[VarArg(Any), KwArg(Any)], Any]\" has no\u001b[0m\u001b[0;34m\u001b[0m\u001b[0;34m\u001b[0m\u001b[0m\n",
            "\u001b[0;32m/usr/local/lib/python3.10/dist-packages/pandas/io/parsers/readers.py\u001b[0m in \u001b[0;36mread_csv\u001b[0;34m(filepath_or_buffer, sep, delimiter, header, names, index_col, usecols, squeeze, prefix, mangle_dupe_cols, dtype, engine, converters, true_values, false_values, skipinitialspace, skiprows, skipfooter, nrows, na_values, keep_default_na, na_filter, verbose, skip_blank_lines, parse_dates, infer_datetime_format, keep_date_col, date_parser, dayfirst, cache_dates, iterator, chunksize, compression, thousands, decimal, lineterminator, quotechar, quoting, doublequote, escapechar, comment, encoding, encoding_errors, dialect, error_bad_lines, warn_bad_lines, on_bad_lines, delim_whitespace, low_memory, memory_map, float_precision, storage_options)\u001b[0m\n\u001b[1;32m    948\u001b[0m     \u001b[0mkwds\u001b[0m\u001b[0;34m.\u001b[0m\u001b[0mupdate\u001b[0m\u001b[0;34m(\u001b[0m\u001b[0mkwds_defaults\u001b[0m\u001b[0;34m)\u001b[0m\u001b[0;34m\u001b[0m\u001b[0;34m\u001b[0m\u001b[0m\n\u001b[1;32m    949\u001b[0m \u001b[0;34m\u001b[0m\u001b[0m\n\u001b[0;32m--> 950\u001b[0;31m     \u001b[0;32mreturn\u001b[0m \u001b[0m_read\u001b[0m\u001b[0;34m(\u001b[0m\u001b[0mfilepath_or_buffer\u001b[0m\u001b[0;34m,\u001b[0m \u001b[0mkwds\u001b[0m\u001b[0;34m)\u001b[0m\u001b[0;34m\u001b[0m\u001b[0;34m\u001b[0m\u001b[0m\n\u001b[0m\u001b[1;32m    951\u001b[0m \u001b[0;34m\u001b[0m\u001b[0m\n\u001b[1;32m    952\u001b[0m \u001b[0;34m\u001b[0m\u001b[0m\n",
            "\u001b[0;32m/usr/local/lib/python3.10/dist-packages/pandas/io/parsers/readers.py\u001b[0m in \u001b[0;36m_read\u001b[0;34m(filepath_or_buffer, kwds)\u001b[0m\n\u001b[1;32m    603\u001b[0m \u001b[0;34m\u001b[0m\u001b[0m\n\u001b[1;32m    604\u001b[0m     \u001b[0;31m# Create the parser.\u001b[0m\u001b[0;34m\u001b[0m\u001b[0;34m\u001b[0m\u001b[0m\n\u001b[0;32m--> 605\u001b[0;31m     \u001b[0mparser\u001b[0m \u001b[0;34m=\u001b[0m \u001b[0mTextFileReader\u001b[0m\u001b[0;34m(\u001b[0m\u001b[0mfilepath_or_buffer\u001b[0m\u001b[0;34m,\u001b[0m \u001b[0;34m**\u001b[0m\u001b[0mkwds\u001b[0m\u001b[0;34m)\u001b[0m\u001b[0;34m\u001b[0m\u001b[0;34m\u001b[0m\u001b[0m\n\u001b[0m\u001b[1;32m    606\u001b[0m \u001b[0;34m\u001b[0m\u001b[0m\n\u001b[1;32m    607\u001b[0m     \u001b[0;32mif\u001b[0m \u001b[0mchunksize\u001b[0m \u001b[0;32mor\u001b[0m \u001b[0miterator\u001b[0m\u001b[0;34m:\u001b[0m\u001b[0;34m\u001b[0m\u001b[0;34m\u001b[0m\u001b[0m\n",
            "\u001b[0;32m/usr/local/lib/python3.10/dist-packages/pandas/io/parsers/readers.py\u001b[0m in \u001b[0;36m__init__\u001b[0;34m(self, f, engine, **kwds)\u001b[0m\n\u001b[1;32m   1440\u001b[0m \u001b[0;34m\u001b[0m\u001b[0m\n\u001b[1;32m   1441\u001b[0m         \u001b[0mself\u001b[0m\u001b[0;34m.\u001b[0m\u001b[0mhandles\u001b[0m\u001b[0;34m:\u001b[0m \u001b[0mIOHandles\u001b[0m \u001b[0;34m|\u001b[0m \u001b[0;32mNone\u001b[0m \u001b[0;34m=\u001b[0m \u001b[0;32mNone\u001b[0m\u001b[0;34m\u001b[0m\u001b[0;34m\u001b[0m\u001b[0m\n\u001b[0;32m-> 1442\u001b[0;31m         \u001b[0mself\u001b[0m\u001b[0;34m.\u001b[0m\u001b[0m_engine\u001b[0m \u001b[0;34m=\u001b[0m \u001b[0mself\u001b[0m\u001b[0;34m.\u001b[0m\u001b[0m_make_engine\u001b[0m\u001b[0;34m(\u001b[0m\u001b[0mf\u001b[0m\u001b[0;34m,\u001b[0m \u001b[0mself\u001b[0m\u001b[0;34m.\u001b[0m\u001b[0mengine\u001b[0m\u001b[0;34m)\u001b[0m\u001b[0;34m\u001b[0m\u001b[0;34m\u001b[0m\u001b[0m\n\u001b[0m\u001b[1;32m   1443\u001b[0m \u001b[0;34m\u001b[0m\u001b[0m\n\u001b[1;32m   1444\u001b[0m     \u001b[0;32mdef\u001b[0m \u001b[0mclose\u001b[0m\u001b[0;34m(\u001b[0m\u001b[0mself\u001b[0m\u001b[0;34m)\u001b[0m \u001b[0;34m->\u001b[0m \u001b[0;32mNone\u001b[0m\u001b[0;34m:\u001b[0m\u001b[0;34m\u001b[0m\u001b[0;34m\u001b[0m\u001b[0m\n",
            "\u001b[0;32m/usr/local/lib/python3.10/dist-packages/pandas/io/parsers/readers.py\u001b[0m in \u001b[0;36m_make_engine\u001b[0;34m(self, f, engine)\u001b[0m\n\u001b[1;32m   1733\u001b[0m                 \u001b[0;32mif\u001b[0m \u001b[0;34m\"b\"\u001b[0m \u001b[0;32mnot\u001b[0m \u001b[0;32min\u001b[0m \u001b[0mmode\u001b[0m\u001b[0;34m:\u001b[0m\u001b[0;34m\u001b[0m\u001b[0;34m\u001b[0m\u001b[0m\n\u001b[1;32m   1734\u001b[0m                     \u001b[0mmode\u001b[0m \u001b[0;34m+=\u001b[0m \u001b[0;34m\"b\"\u001b[0m\u001b[0;34m\u001b[0m\u001b[0;34m\u001b[0m\u001b[0m\n\u001b[0;32m-> 1735\u001b[0;31m             self.handles = get_handle(\n\u001b[0m\u001b[1;32m   1736\u001b[0m                 \u001b[0mf\u001b[0m\u001b[0;34m,\u001b[0m\u001b[0;34m\u001b[0m\u001b[0;34m\u001b[0m\u001b[0m\n\u001b[1;32m   1737\u001b[0m                 \u001b[0mmode\u001b[0m\u001b[0;34m,\u001b[0m\u001b[0;34m\u001b[0m\u001b[0;34m\u001b[0m\u001b[0m\n",
            "\u001b[0;32m/usr/local/lib/python3.10/dist-packages/pandas/io/common.py\u001b[0m in \u001b[0;36mget_handle\u001b[0;34m(path_or_buf, mode, encoding, compression, memory_map, is_text, errors, storage_options)\u001b[0m\n\u001b[1;32m    854\u001b[0m         \u001b[0;32mif\u001b[0m \u001b[0mioargs\u001b[0m\u001b[0;34m.\u001b[0m\u001b[0mencoding\u001b[0m \u001b[0;32mand\u001b[0m \u001b[0;34m\"b\"\u001b[0m \u001b[0;32mnot\u001b[0m \u001b[0;32min\u001b[0m \u001b[0mioargs\u001b[0m\u001b[0;34m.\u001b[0m\u001b[0mmode\u001b[0m\u001b[0;34m:\u001b[0m\u001b[0;34m\u001b[0m\u001b[0;34m\u001b[0m\u001b[0m\n\u001b[1;32m    855\u001b[0m             \u001b[0;31m# Encoding\u001b[0m\u001b[0;34m\u001b[0m\u001b[0;34m\u001b[0m\u001b[0m\n\u001b[0;32m--> 856\u001b[0;31m             handle = open(\n\u001b[0m\u001b[1;32m    857\u001b[0m                 \u001b[0mhandle\u001b[0m\u001b[0;34m,\u001b[0m\u001b[0;34m\u001b[0m\u001b[0;34m\u001b[0m\u001b[0m\n\u001b[1;32m    858\u001b[0m                 \u001b[0mioargs\u001b[0m\u001b[0;34m.\u001b[0m\u001b[0mmode\u001b[0m\u001b[0;34m,\u001b[0m\u001b[0;34m\u001b[0m\u001b[0;34m\u001b[0m\u001b[0m\n",
            "\u001b[0;31mFileNotFoundError\u001b[0m: [Errno 2] No such file or directory: '../input/CarPrice_Assignment.csv'"
          ]
        }
      ]
    },
    {
      "cell_type": "code",
      "source": [
        "cars.shape"
      ],
      "metadata": {
        "execution": {
          "iopub.status.busy": "2023-11-26T20:37:07.604825Z",
          "iopub.execute_input": "2023-11-26T20:37:07.605232Z",
          "iopub.status.idle": "2023-11-26T20:37:07.612086Z",
          "shell.execute_reply.started": "2023-11-26T20:37:07.605150Z",
          "shell.execute_reply": "2023-11-26T20:37:07.610858Z"
        },
        "trusted": true,
        "id": "Nm6LoaTmXpyB",
        "outputId": "c77872ea-ab62-4663-d937-306836d44d04"
      },
      "execution_count": null,
      "outputs": [
        {
          "execution_count": 88,
          "output_type": "execute_result",
          "data": {
            "text/plain": "(205, 26)"
          },
          "metadata": {}
        }
      ]
    },
    {
      "cell_type": "code",
      "source": [
        "cars.describe()"
      ],
      "metadata": {
        "execution": {
          "iopub.status.busy": "2023-11-26T19:31:25.368344Z",
          "iopub.execute_input": "2023-11-26T19:31:25.368739Z",
          "iopub.status.idle": "2023-11-26T19:31:25.473542Z",
          "shell.execute_reply.started": "2023-11-26T19:31:25.368682Z",
          "shell.execute_reply": "2023-11-26T19:31:25.472582Z"
        },
        "trusted": true,
        "id": "TGVHqfqmXpyB",
        "outputId": "b7b5c733-0c39-465f-baea-98b7227c8368"
      },
      "execution_count": null,
      "outputs": [
        {
          "execution_count": 9,
          "output_type": "execute_result",
          "data": {
            "text/plain": "           car_ID   symboling      ...       highwaympg         price\ncount  205.000000  205.000000      ...       205.000000    205.000000\nmean   103.000000    0.834146      ...        30.751220  13276.710571\nstd     59.322565    1.245307      ...         6.886443   7988.852332\nmin      1.000000   -2.000000      ...        16.000000   5118.000000\n25%     52.000000    0.000000      ...        25.000000   7788.000000\n50%    103.000000    1.000000      ...        30.000000  10295.000000\n75%    154.000000    2.000000      ...        34.000000  16503.000000\nmax    205.000000    3.000000      ...        54.000000  45400.000000\n\n[8 rows x 16 columns]",
            "text/html": "<div>\n<style scoped>\n    .dataframe tbody tr th:only-of-type {\n        vertical-align: middle;\n    }\n\n    .dataframe tbody tr th {\n        vertical-align: top;\n    }\n\n    .dataframe thead th {\n        text-align: right;\n    }\n</style>\n<table border=\"1\" class=\"dataframe\">\n  <thead>\n    <tr style=\"text-align: right;\">\n      <th></th>\n      <th>car_ID</th>\n      <th>symboling</th>\n      <th>wheelbase</th>\n      <th>carlength</th>\n      <th>carwidth</th>\n      <th>carheight</th>\n      <th>curbweight</th>\n      <th>enginesize</th>\n      <th>boreratio</th>\n      <th>stroke</th>\n      <th>compressionratio</th>\n      <th>horsepower</th>\n      <th>peakrpm</th>\n      <th>citympg</th>\n      <th>highwaympg</th>\n      <th>price</th>\n    </tr>\n  </thead>\n  <tbody>\n    <tr>\n      <th>count</th>\n      <td>205.000000</td>\n      <td>205.000000</td>\n      <td>205.000000</td>\n      <td>205.000000</td>\n      <td>205.000000</td>\n      <td>205.000000</td>\n      <td>205.000000</td>\n      <td>205.000000</td>\n      <td>205.000000</td>\n      <td>205.000000</td>\n      <td>205.000000</td>\n      <td>205.000000</td>\n      <td>205.000000</td>\n      <td>205.000000</td>\n      <td>205.000000</td>\n      <td>205.000000</td>\n    </tr>\n    <tr>\n      <th>mean</th>\n      <td>103.000000</td>\n      <td>0.834146</td>\n      <td>98.756585</td>\n      <td>174.049268</td>\n      <td>65.907805</td>\n      <td>53.724878</td>\n      <td>2555.565854</td>\n      <td>126.907317</td>\n      <td>3.329756</td>\n      <td>3.255415</td>\n      <td>10.142537</td>\n      <td>104.117073</td>\n      <td>5125.121951</td>\n      <td>25.219512</td>\n      <td>30.751220</td>\n      <td>13276.710571</td>\n    </tr>\n    <tr>\n      <th>std</th>\n      <td>59.322565</td>\n      <td>1.245307</td>\n      <td>6.021776</td>\n      <td>12.337289</td>\n      <td>2.145204</td>\n      <td>2.443522</td>\n      <td>520.680204</td>\n      <td>41.642693</td>\n      <td>0.270844</td>\n      <td>0.313597</td>\n      <td>3.972040</td>\n      <td>39.544167</td>\n      <td>476.985643</td>\n      <td>6.542142</td>\n      <td>6.886443</td>\n      <td>7988.852332</td>\n    </tr>\n    <tr>\n      <th>min</th>\n      <td>1.000000</td>\n      <td>-2.000000</td>\n      <td>86.600000</td>\n      <td>141.100000</td>\n      <td>60.300000</td>\n      <td>47.800000</td>\n      <td>1488.000000</td>\n      <td>61.000000</td>\n      <td>2.540000</td>\n      <td>2.070000</td>\n      <td>7.000000</td>\n      <td>48.000000</td>\n      <td>4150.000000</td>\n      <td>13.000000</td>\n      <td>16.000000</td>\n      <td>5118.000000</td>\n    </tr>\n    <tr>\n      <th>25%</th>\n      <td>52.000000</td>\n      <td>0.000000</td>\n      <td>94.500000</td>\n      <td>166.300000</td>\n      <td>64.100000</td>\n      <td>52.000000</td>\n      <td>2145.000000</td>\n      <td>97.000000</td>\n      <td>3.150000</td>\n      <td>3.110000</td>\n      <td>8.600000</td>\n      <td>70.000000</td>\n      <td>4800.000000</td>\n      <td>19.000000</td>\n      <td>25.000000</td>\n      <td>7788.000000</td>\n    </tr>\n    <tr>\n      <th>50%</th>\n      <td>103.000000</td>\n      <td>1.000000</td>\n      <td>97.000000</td>\n      <td>173.200000</td>\n      <td>65.500000</td>\n      <td>54.100000</td>\n      <td>2414.000000</td>\n      <td>120.000000</td>\n      <td>3.310000</td>\n      <td>3.290000</td>\n      <td>9.000000</td>\n      <td>95.000000</td>\n      <td>5200.000000</td>\n      <td>24.000000</td>\n      <td>30.000000</td>\n      <td>10295.000000</td>\n    </tr>\n    <tr>\n      <th>75%</th>\n      <td>154.000000</td>\n      <td>2.000000</td>\n      <td>102.400000</td>\n      <td>183.100000</td>\n      <td>66.900000</td>\n      <td>55.500000</td>\n      <td>2935.000000</td>\n      <td>141.000000</td>\n      <td>3.580000</td>\n      <td>3.410000</td>\n      <td>9.400000</td>\n      <td>116.000000</td>\n      <td>5500.000000</td>\n      <td>30.000000</td>\n      <td>34.000000</td>\n      <td>16503.000000</td>\n    </tr>\n    <tr>\n      <th>max</th>\n      <td>205.000000</td>\n      <td>3.000000</td>\n      <td>120.900000</td>\n      <td>208.100000</td>\n      <td>72.300000</td>\n      <td>59.800000</td>\n      <td>4066.000000</td>\n      <td>326.000000</td>\n      <td>3.940000</td>\n      <td>4.170000</td>\n      <td>23.000000</td>\n      <td>288.000000</td>\n      <td>6600.000000</td>\n      <td>49.000000</td>\n      <td>54.000000</td>\n      <td>45400.000000</td>\n    </tr>\n  </tbody>\n</table>\n</div>"
          },
          "metadata": {}
        }
      ]
    },
    {
      "cell_type": "code",
      "source": [
        "cars.info()"
      ],
      "metadata": {
        "execution": {
          "iopub.status.busy": "2023-11-26T19:30:55.112310Z",
          "iopub.execute_input": "2023-11-26T19:30:55.113041Z",
          "iopub.status.idle": "2023-11-26T19:30:55.126337Z",
          "shell.execute_reply.started": "2023-11-26T19:30:55.112946Z",
          "shell.execute_reply": "2023-11-26T19:30:55.125340Z"
        },
        "trusted": true,
        "id": "4wNj2zxfXpyC",
        "outputId": "e5871a14-f433-4ce8-d343-60d144e1a398"
      },
      "execution_count": null,
      "outputs": [
        {
          "name": "stdout",
          "text": "<class 'pandas.core.frame.DataFrame'>\nRangeIndex: 205 entries, 0 to 204\nData columns (total 26 columns):\ncar_ID              205 non-null int64\nsymboling           205 non-null int64\nCarName             205 non-null object\nfueltype            205 non-null object\naspiration          205 non-null object\ndoornumber          205 non-null object\ncarbody             205 non-null object\ndrivewheel          205 non-null object\nenginelocation      205 non-null object\nwheelbase           205 non-null float64\ncarlength           205 non-null float64\ncarwidth            205 non-null float64\ncarheight           205 non-null float64\ncurbweight          205 non-null int64\nenginetype          205 non-null object\ncylindernumber      205 non-null object\nenginesize          205 non-null int64\nfuelsystem          205 non-null object\nboreratio           205 non-null float64\nstroke              205 non-null float64\ncompressionratio    205 non-null float64\nhorsepower          205 non-null int64\npeakrpm             205 non-null int64\ncitympg             205 non-null int64\nhighwaympg          205 non-null int64\nprice               205 non-null float64\ndtypes: float64(8), int64(8), object(10)\nmemory usage: 41.7+ KB\n",
          "output_type": "stream"
        }
      ]
    },
    {
      "cell_type": "markdown",
      "source": [
        "#### 2. Lets work with a subset of data, since we want to ignore most of the variables"
      ],
      "metadata": {
        "id": "uLY7-uwDXpyC"
      }
    },
    {
      "cell_type": "code",
      "source": [
        "# Selecting specific variables\n",
        "selected_variables = ['CarName', 'price', 'citympg', 'highwaympg']\n",
        "\n",
        "# Creating a subset with selected variables\n",
        "cars1 = cars[selected_variables]\n",
        "cars1.head(3)"
      ],
      "metadata": {
        "execution": {
          "iopub.status.busy": "2023-11-26T20:37:12.434825Z",
          "iopub.execute_input": "2023-11-26T20:37:12.435184Z",
          "iopub.status.idle": "2023-11-26T20:37:12.455295Z",
          "shell.execute_reply.started": "2023-11-26T20:37:12.435127Z",
          "shell.execute_reply": "2023-11-26T20:37:12.454518Z"
        },
        "trusted": true,
        "colab": {
          "base_uri": "https://localhost:8080/",
          "height": 227
        },
        "id": "smS1iyYcXpyC",
        "outputId": "9675cb7b-d903-4e7a-cec4-7ed33e420c0a"
      },
      "execution_count": null,
      "outputs": [
        {
          "output_type": "error",
          "ename": "NameError",
          "evalue": "ignored",
          "traceback": [
            "\u001b[0;31m---------------------------------------------------------------------------\u001b[0m",
            "\u001b[0;31mNameError\u001b[0m                                 Traceback (most recent call last)",
            "\u001b[0;32m<ipython-input-1-e30444878ff4>\u001b[0m in \u001b[0;36m<cell line: 5>\u001b[0;34m()\u001b[0m\n\u001b[1;32m      3\u001b[0m \u001b[0;34m\u001b[0m\u001b[0m\n\u001b[1;32m      4\u001b[0m \u001b[0;31m# Creating a subset with selected variables\u001b[0m\u001b[0;34m\u001b[0m\u001b[0;34m\u001b[0m\u001b[0m\n\u001b[0;32m----> 5\u001b[0;31m \u001b[0mcars1\u001b[0m \u001b[0;34m=\u001b[0m \u001b[0mcars\u001b[0m\u001b[0;34m[\u001b[0m\u001b[0mselected_variables\u001b[0m\u001b[0;34m]\u001b[0m\u001b[0;34m\u001b[0m\u001b[0;34m\u001b[0m\u001b[0m\n\u001b[0m\u001b[1;32m      6\u001b[0m \u001b[0mcars1\u001b[0m\u001b[0;34m.\u001b[0m\u001b[0mhead\u001b[0m\u001b[0;34m(\u001b[0m\u001b[0;36m3\u001b[0m\u001b[0;34m)\u001b[0m\u001b[0;34m\u001b[0m\u001b[0;34m\u001b[0m\u001b[0m\n",
            "\u001b[0;31mNameError\u001b[0m: name 'cars' is not defined"
          ]
        }
      ]
    },
    {
      "cell_type": "code",
      "source": [
        "cars1.info()"
      ],
      "metadata": {
        "execution": {
          "iopub.status.busy": "2023-11-26T19:38:32.075467Z",
          "iopub.execute_input": "2023-11-26T19:38:32.075916Z",
          "iopub.status.idle": "2023-11-26T19:38:32.086769Z",
          "shell.execute_reply.started": "2023-11-26T19:38:32.075856Z",
          "shell.execute_reply": "2023-11-26T19:38:32.085584Z"
        },
        "trusted": true,
        "id": "iATIyMI1XpyC",
        "outputId": "3192e5e6-c81b-40b5-aaca-a36f18ad524c"
      },
      "execution_count": null,
      "outputs": [
        {
          "name": "stdout",
          "text": "<class 'pandas.core.frame.DataFrame'>\nRangeIndex: 205 entries, 0 to 204\nData columns (total 4 columns):\nCarName       205 non-null object\nprice         205 non-null float64\ncitympg       205 non-null int64\nhighwaympg    205 non-null int64\ndtypes: float64(1), int64(2), object(1)\nmemory usage: 6.5+ KB\n",
          "output_type": "stream"
        }
      ]
    },
    {
      "cell_type": "markdown",
      "source": [
        "* We have carried out feature selection although not using advanced tecniques\n",
        "* Now we want to clean the data.\n",
        "* After selecting a subset of the main df, we will split the variable **CarName**, in order to differentiate car manufacturer and model"
      ],
      "metadata": {
        "id": "17PIrcKeXpyD"
      }
    },
    {
      "cell_type": "code",
      "source": [
        "#Splitting company name from CarName column\n",
        "CompanyName = cars1['CarName'].apply(lambda x : x.split(' ')[0])\n",
        "cars1.insert(3,\"CompanyName\",CompanyName)\n",
        "cars1.drop(['CarName'],axis=1,inplace=True)\n",
        "cars1.head()"
      ],
      "metadata": {
        "execution": {
          "iopub.status.busy": "2023-11-26T20:37:17.879081Z",
          "iopub.execute_input": "2023-11-26T20:37:17.879458Z",
          "iopub.status.idle": "2023-11-26T20:37:18.009267Z",
          "shell.execute_reply.started": "2023-11-26T20:37:17.879379Z",
          "shell.execute_reply": "2023-11-26T20:37:18.007806Z"
        },
        "trusted": true,
        "id": "KyqBvhMyXpyD",
        "outputId": "c8e64901-6b2f-48db-dff6-ba3f360b9103"
      },
      "execution_count": null,
      "outputs": [
        {
          "execution_count": 90,
          "output_type": "execute_result",
          "data": {
            "text/plain": "     price  citympg  CompanyName  highwaympg\n0  13495.0       21  alfa-romero          27\n1  16500.0       21  alfa-romero          27\n2  16500.0       19  alfa-romero          26\n3  13950.0       24         audi          30\n4  17450.0       18         audi          22",
            "text/html": "<div>\n<style scoped>\n    .dataframe tbody tr th:only-of-type {\n        vertical-align: middle;\n    }\n\n    .dataframe tbody tr th {\n        vertical-align: top;\n    }\n\n    .dataframe thead th {\n        text-align: right;\n    }\n</style>\n<table border=\"1\" class=\"dataframe\">\n  <thead>\n    <tr style=\"text-align: right;\">\n      <th></th>\n      <th>price</th>\n      <th>citympg</th>\n      <th>CompanyName</th>\n      <th>highwaympg</th>\n    </tr>\n  </thead>\n  <tbody>\n    <tr>\n      <th>0</th>\n      <td>13495.0</td>\n      <td>21</td>\n      <td>alfa-romero</td>\n      <td>27</td>\n    </tr>\n    <tr>\n      <th>1</th>\n      <td>16500.0</td>\n      <td>21</td>\n      <td>alfa-romero</td>\n      <td>27</td>\n    </tr>\n    <tr>\n      <th>2</th>\n      <td>16500.0</td>\n      <td>19</td>\n      <td>alfa-romero</td>\n      <td>26</td>\n    </tr>\n    <tr>\n      <th>3</th>\n      <td>13950.0</td>\n      <td>24</td>\n      <td>audi</td>\n      <td>30</td>\n    </tr>\n    <tr>\n      <th>4</th>\n      <td>17450.0</td>\n      <td>18</td>\n      <td>audi</td>\n      <td>22</td>\n    </tr>\n  </tbody>\n</table>\n</div>"
          },
          "metadata": {}
        }
      ]
    },
    {
      "cell_type": "code",
      "source": [
        "#Confirming new variable name for car manufacturer\n",
        "cars1.CompanyName.unique()"
      ],
      "metadata": {
        "execution": {
          "iopub.status.busy": "2023-11-26T20:37:19.907649Z",
          "iopub.execute_input": "2023-11-26T20:37:19.907983Z",
          "iopub.status.idle": "2023-11-26T20:37:19.916840Z",
          "shell.execute_reply.started": "2023-11-26T20:37:19.907939Z",
          "shell.execute_reply": "2023-11-26T20:37:19.915771Z"
        },
        "trusted": true,
        "id": "A_vb4zYBXpyD",
        "outputId": "3a032b55-fe2c-4695-8267-f61100cee250"
      },
      "execution_count": null,
      "outputs": [
        {
          "execution_count": 91,
          "output_type": "execute_result",
          "data": {
            "text/plain": "array(['alfa-romero', 'audi', 'bmw', 'chevrolet', 'dodge', 'honda',\n       'isuzu', 'jaguar', 'maxda', 'mazda', 'buick', 'mercury',\n       'mitsubishi', 'Nissan', 'nissan', 'peugeot', 'plymouth', 'porsche',\n       'porcshce', 'renault', 'saab', 'subaru', 'toyota', 'toyouta',\n       'vokswagen', 'volkswagen', 'vw', 'volvo'], dtype=object)"
          },
          "metadata": {}
        }
      ]
    },
    {
      "cell_type": "markdown",
      "source": [
        "##### Fixing invalid values\n",
        "- There seems to be some spelling error in the CompanyName column.\n",
        "\n",
        "    - `maxda` = `mazda`\n",
        "    - `Nissan` = `nissan`\n",
        "    - `porsche` = `porcshce`\n",
        "    - `toyota` = `toyouta`\n",
        "    - `vokswagen` = `volkswagen` =  `vw`"
      ],
      "metadata": {
        "id": "j6IR6ztuXpyD"
      }
    },
    {
      "cell_type": "code",
      "source": [
        "#Fixing spelling errors in our manufacturer names\n",
        "cars1.CompanyName = cars1.CompanyName.str.lower()\n",
        "\n",
        "def replace_name(a,b):\n",
        "    cars1.CompanyName.replace(a,b,inplace=True)\n",
        "\n",
        "replace_name('maxda','mazda')\n",
        "replace_name('porcshce','porsche')\n",
        "replace_name('toyouta','toyota')\n",
        "replace_name('vokswagen','volkswagen')\n",
        "replace_name('vw','volkswagen')\n",
        "\n",
        "cars1.CompanyName.unique()"
      ],
      "metadata": {
        "execution": {
          "iopub.status.busy": "2023-11-26T20:37:23.076700Z",
          "iopub.execute_input": "2023-11-26T20:37:23.077364Z",
          "iopub.status.idle": "2023-11-26T20:37:23.560380Z",
          "shell.execute_reply.started": "2023-11-26T20:37:23.077312Z",
          "shell.execute_reply": "2023-11-26T20:37:23.559316Z"
        },
        "trusted": true,
        "id": "hW_KTH1HXpyE",
        "outputId": "6afd93cc-59b0-437c-e001-d8a48cb82bf2"
      },
      "execution_count": null,
      "outputs": [
        {
          "execution_count": 92,
          "output_type": "execute_result",
          "data": {
            "text/plain": "array(['alfa-romero', 'audi', 'bmw', 'chevrolet', 'dodge', 'honda',\n       'isuzu', 'jaguar', 'mazda', 'buick', 'mercury', 'mitsubishi',\n       'nissan', 'peugeot', 'plymouth', 'porsche', 'renault', 'saab',\n       'subaru', 'toyota', 'volkswagen', 'volvo'], dtype=object)"
          },
          "metadata": {}
        }
      ]
    },
    {
      "cell_type": "code",
      "source": [
        "#Checking for duplicates\n",
        "cars1.loc[cars1.duplicated()]"
      ],
      "metadata": {
        "execution": {
          "iopub.status.busy": "2023-11-26T20:37:25.839494Z",
          "iopub.execute_input": "2023-11-26T20:37:25.840196Z",
          "iopub.status.idle": "2023-11-26T20:37:25.859926Z",
          "shell.execute_reply.started": "2023-11-26T20:37:25.839829Z",
          "shell.execute_reply": "2023-11-26T20:37:25.859143Z"
        },
        "trusted": true,
        "id": "cSl77W2HXpyE",
        "outputId": "ea348611-d5b8-45f8-ed84-a4bf38f17821"
      },
      "execution_count": null,
      "outputs": [
        {
          "execution_count": 93,
          "output_type": "execute_result",
          "data": {
            "text/plain": "     price  citympg CompanyName  highwaympg\n36  7295.0       30       honda          34\n45  8916.5       38       isuzu          43\n88  9279.0       23  mitsubishi          30",
            "text/html": "<div>\n<style scoped>\n    .dataframe tbody tr th:only-of-type {\n        vertical-align: middle;\n    }\n\n    .dataframe tbody tr th {\n        vertical-align: top;\n    }\n\n    .dataframe thead th {\n        text-align: right;\n    }\n</style>\n<table border=\"1\" class=\"dataframe\">\n  <thead>\n    <tr style=\"text-align: right;\">\n      <th></th>\n      <th>price</th>\n      <th>citympg</th>\n      <th>CompanyName</th>\n      <th>highwaympg</th>\n    </tr>\n  </thead>\n  <tbody>\n    <tr>\n      <th>36</th>\n      <td>7295.0</td>\n      <td>30</td>\n      <td>honda</td>\n      <td>34</td>\n    </tr>\n    <tr>\n      <th>45</th>\n      <td>8916.5</td>\n      <td>38</td>\n      <td>isuzu</td>\n      <td>43</td>\n    </tr>\n    <tr>\n      <th>88</th>\n      <td>9279.0</td>\n      <td>23</td>\n      <td>mitsubishi</td>\n      <td>30</td>\n    </tr>\n  </tbody>\n</table>\n</div>"
          },
          "metadata": {}
        }
      ]
    },
    {
      "cell_type": "markdown",
      "source": [
        "### 3: Visualizing the data\n",
        "* Understanding price as a variable"
      ],
      "metadata": {
        "id": "Udl3gc0KXpyE"
      }
    },
    {
      "cell_type": "code",
      "source": [
        "plt.figure(figsize=(20,8))\n",
        "\n",
        "plt.subplot(1,2,1)\n",
        "plt.title('Car Price Distribution Plot')\n",
        "sns.distplot(cars.price)\n",
        "\n",
        "plt.subplot(1,2,2)\n",
        "plt.title('Car Price Spread')\n",
        "sns.boxplot(y=cars.price)\n",
        "\n",
        "plt.show()"
      ],
      "metadata": {
        "execution": {
          "iopub.status.busy": "2023-11-26T20:37:28.742155Z",
          "iopub.execute_input": "2023-11-26T20:37:28.742505Z",
          "iopub.status.idle": "2023-11-26T20:37:29.496447Z",
          "shell.execute_reply.started": "2023-11-26T20:37:28.742442Z",
          "shell.execute_reply": "2023-11-26T20:37:29.495492Z"
        },
        "trusted": true,
        "id": "cpCBqxlXXpyF"
      },
      "execution_count": null,
      "outputs": []
    },
    {
      "cell_type": "code",
      "source": [
        "print(cars1.price.describe(percentiles = [0.25,0.50,0.75,0.85,0.90,1]))"
      ],
      "metadata": {
        "execution": {
          "iopub.status.busy": "2023-11-26T19:47:30.712226Z",
          "iopub.execute_input": "2023-11-26T19:47:30.712636Z",
          "iopub.status.idle": "2023-11-26T19:47:30.823643Z",
          "shell.execute_reply.started": "2023-11-26T19:47:30.712556Z",
          "shell.execute_reply": "2023-11-26T19:47:30.822800Z"
        },
        "trusted": true,
        "id": "UPTEs8tGXpyF",
        "outputId": "e6bb78f7-0fb2-4bf3-91bf-84b9e4f2c789"
      },
      "execution_count": null,
      "outputs": [
        {
          "name": "stdout",
          "text": "count      205.000000\nmean     13276.710571\nstd       7988.852332\nmin       5118.000000\n25%       7788.000000\n50%      10295.000000\n75%      16503.000000\n85%      18500.000000\n90%      22563.000000\n100%     45400.000000\nmax      45400.000000\nName: price, dtype: float64\n",
          "output_type": "stream"
        }
      ]
    },
    {
      "cell_type": "markdown",
      "source": [
        "#### Inference :\n",
        "\n",
        "1. The plot seemed to be right-skewed, meaning that the most prices in the dataset are low(Below 15,000).\n",
        "2. There is a significant difference between the mean and the median of the price distribution.\n",
        "3. The data points are far spread out from the mean, which indicates a high variance in the car prices.(85% of the prices are below 18,500, whereas the remaining 15% are between 18,500 and 45,400.)"
      ],
      "metadata": {
        "id": "kb3o7ZRgXpyF"
      }
    },
    {
      "cell_type": "markdown",
      "source": [
        "#### 4. Building a correlation matrix to see of we've selected appropriate variables"
      ],
      "metadata": {
        "id": "L6qIQ9W5XpyF"
      }
    },
    {
      "cell_type": "code",
      "source": [
        "import pandas as pd\n",
        "import seaborn as sns\n",
        "import matplotlib.pyplot as plt\n",
        "\n",
        "# Assuming 'cars' is your DataFrame\n",
        "# Calculate the correlation matrix\n",
        "correlation_matrix = cars1.corr()\n",
        "\n",
        "# Plotting the correlation matrix as a heatmap using seaborn\n",
        "plt.figure(figsize=(10, 8))\n",
        "sns.heatmap(correlation_matrix, annot=True, cmap='coolwarm', fmt=\".2f\", linewidths=.5)\n",
        "plt.title('Correlation Matrix')\n",
        "plt.show()"
      ],
      "metadata": {
        "execution": {
          "iopub.status.busy": "2023-11-26T20:37:34.843846Z",
          "iopub.execute_input": "2023-11-26T20:37:34.844179Z",
          "iopub.status.idle": "2023-11-26T20:37:35.359434Z",
          "shell.execute_reply.started": "2023-11-26T20:37:34.844132Z",
          "shell.execute_reply": "2023-11-26T20:37:35.357952Z"
        },
        "trusted": true,
        "id": "pA0IBy6yXpyF",
        "outputId": "953fbd8c-4c92-44b6-90b3-a97880346a46"
      },
      "execution_count": null,
      "outputs": [
        {
          "output_type": "display_data",
          "data": {
            "text/plain": "<Figure size 720x576 with 2 Axes>",
            "image/png": "[encoded data removed]"
          },
          "metadata": {}
        }
      ]
    },
    {
      "cell_type": "markdown",
      "source": [
        "#### Interpretation:\n",
        "* Price and City MPG (Miles Per Gallon):\n",
        "\n",
        "The correlation coefficient between \"Price\" and \"City MPG\" is -0.685751.\n",
        "This indicates a moderate negative correlation between the two variables.\n",
        "As the price of a car increases, the city miles per gallon tends to decrease, and vice versa.\n",
        "\n",
        "* Price and Highway MPG (Miles Per Gallon):\n",
        "\n",
        "The correlation coefficient between \"Price\" and \"Highway MPG\" is -0.697599.\n",
        "Similar to the previous case, this also shows a moderate negative correlation.\n",
        "As the price of a car increases, the highway miles per gallon tends to decrease, and vice versa.\n",
        "\n",
        "* City MPG and Highway MPG:\n",
        "\n",
        "The correlation coefficient between \"City MPG\" and \"Highway MPG\" is 0.971337.\n",
        "This indicates a very strong positive correlation between the two variables.\n",
        "As city miles per gallon increases, highway miles per gallon also tends to increase, and vice versa."
      ],
      "metadata": {
        "id": "gOdMNDNjXpyF"
      }
    },
    {
      "cell_type": "markdown",
      "source": [
        "### 4. Feature Engineering (Making a fuel economy variable)\n",
        "* This helps us quantify fuel efficiency conclusively"
      ],
      "metadata": {
        "id": "XNsMBptMXpyG"
      }
    },
    {
      "cell_type": "code",
      "source": [
        "#Fuel economy> We use a distr of 55% to citympg since drivers mostly spend time\n",
        "#driving in city roads\n",
        "cars1['fueleconomy'] = (0.55 * cars['citympg']) + (0.45 * cars['highwaympg'])"
      ],
      "metadata": {
        "execution": {
          "iopub.status.busy": "2023-11-26T20:37:38.679960Z",
          "iopub.execute_input": "2023-11-26T20:37:38.680494Z",
          "iopub.status.idle": "2023-11-26T20:37:38.771571Z",
          "shell.execute_reply.started": "2023-11-26T20:37:38.680430Z",
          "shell.execute_reply": "2023-11-26T20:37:38.770555Z"
        },
        "trusted": true,
        "id": "10ADHFg_XpyG"
      },
      "execution_count": null,
      "outputs": []
    },
    {
      "cell_type": "code",
      "source": [
        "#Binning the Car Companies based on avg prices of each Company.\n",
        "cars1['price'] = cars1['price'].astype('int')\n",
        "temp = cars1.copy()\n",
        "table = temp.groupby(['CompanyName'])['price'].mean()\n",
        "temp = temp.merge(table.reset_index(), how='left',on='CompanyName')\n",
        "bins = [0,10000,20000,40000]\n",
        "cars_bin=['Budget','Medium','Highend']\n",
        "cars['cars1range'] = pd.cut(temp['price_y'],bins,right=False,labels=cars_bin)\n",
        "cars1.head()"
      ],
      "metadata": {
        "execution": {
          "iopub.status.busy": "2023-11-26T20:37:41.083083Z",
          "iopub.execute_input": "2023-11-26T20:37:41.083418Z",
          "iopub.status.idle": "2023-11-26T20:37:41.195728Z",
          "shell.execute_reply.started": "2023-11-26T20:37:41.083368Z",
          "shell.execute_reply": "2023-11-26T20:37:41.194508Z"
        },
        "trusted": true,
        "id": "JQnP6CTSXpyG",
        "outputId": "c287bd0f-83ec-4b8c-8932-f0605d20cb60"
      },
      "execution_count": null,
      "outputs": [
        {
          "execution_count": 97,
          "output_type": "execute_result",
          "data": {
            "text/plain": "   price  citympg  CompanyName  highwaympg  fueleconomy\n0  13495       21  alfa-romero          27        23.70\n1  16500       21  alfa-romero          27        23.70\n2  16500       19  alfa-romero          26        22.15\n3  13950       24         audi          30        26.70\n4  17450       18         audi          22        19.80",
            "text/html": "<div>\n<style scoped>\n    .dataframe tbody tr th:only-of-type {\n        vertical-align: middle;\n    }\n\n    .dataframe tbody tr th {\n        vertical-align: top;\n    }\n\n    .dataframe thead th {\n        text-align: right;\n    }\n</style>\n<table border=\"1\" class=\"dataframe\">\n  <thead>\n    <tr style=\"text-align: right;\">\n      <th></th>\n      <th>price</th>\n      <th>citympg</th>\n      <th>CompanyName</th>\n      <th>highwaympg</th>\n      <th>fueleconomy</th>\n    </tr>\n  </thead>\n  <tbody>\n    <tr>\n      <th>0</th>\n      <td>13495</td>\n      <td>21</td>\n      <td>alfa-romero</td>\n      <td>27</td>\n      <td>23.70</td>\n    </tr>\n    <tr>\n      <th>1</th>\n      <td>16500</td>\n      <td>21</td>\n      <td>alfa-romero</td>\n      <td>27</td>\n      <td>23.70</td>\n    </tr>\n    <tr>\n      <th>2</th>\n      <td>16500</td>\n      <td>19</td>\n      <td>alfa-romero</td>\n      <td>26</td>\n      <td>22.15</td>\n    </tr>\n    <tr>\n      <th>3</th>\n      <td>13950</td>\n      <td>24</td>\n      <td>audi</td>\n      <td>30</td>\n      <td>26.70</td>\n    </tr>\n    <tr>\n      <th>4</th>\n      <td>17450</td>\n      <td>18</td>\n      <td>audi</td>\n      <td>22</td>\n      <td>19.80</td>\n    </tr>\n  </tbody>\n</table>\n</div>"
          },
          "metadata": {}
        }
      ]
    },
    {
      "cell_type": "markdown",
      "source": [
        "### 5. Bivariate Analysis"
      ],
      "metadata": {
        "id": "Ku-O23YVXpyG"
      }
    },
    {
      "cell_type": "code",
      "source": [
        "#plt.tight_layout()\n",
        "# Scatter plot between 'Price' and 'FuelEconomy'\n",
        "plt.figure(figsize=(10, 6))\n",
        "plt.scatter(cars1['price'], cars1['fueleconomy'], alpha=0.5)\n",
        "plt.title('Scatter Plot: Price vs. Fuel Economy')\n",
        "plt.xlabel('Price')\n",
        "plt.ylabel('Fuel Economy')\n",
        "plt.grid(True)\n",
        "plt.show()"
      ],
      "metadata": {
        "execution": {
          "iopub.status.busy": "2023-11-26T19:59:15.091655Z",
          "iopub.execute_input": "2023-11-26T19:59:15.092244Z",
          "iopub.status.idle": "2023-11-26T19:59:15.538670Z",
          "shell.execute_reply.started": "2023-11-26T19:59:15.092192Z",
          "shell.execute_reply": "2023-11-26T19:59:15.537744Z"
        },
        "trusted": true,
        "id": "1N3FIfcmXpyG",
        "outputId": "efa1256a-feb8-4a03-f3ed-8521264aceb6"
      },
      "execution_count": null,
      "outputs": [
        {
          "output_type": "display_data",
          "data": {
            "text/plain": "<Figure size 720x432 with 1 Axes>",
            "image/png": "[encoded data removed]"
          },
          "metadata": {}
        },
        {
          "output_type": "display_data",
          "data": {
            "text/plain": "<Figure size 432x288 with 0 Axes>"
          },
          "metadata": {}
        }
      ]
    },
    {
      "cell_type": "markdown",
      "source": [
        "#### Inference :\n",
        "\n",
        "1. `fueleconomy` has an obvios `negative correlation` with price and is significant."
      ],
      "metadata": {
        "id": "D57SHiOEXpyG"
      }
    },
    {
      "cell_type": "markdown",
      "source": [
        "### 6. Train-Test Split and feature scaling"
      ],
      "metadata": {
        "id": "XRcJF4eLXpyG"
      }
    },
    {
      "cell_type": "code",
      "source": [
        "from sklearn.model_selection import train_test_split\n",
        "\n",
        "np.random.seed(0)\n",
        "df_train, df_test = train_test_split(cars1, train_size = 0.7, test_size = 0.3, random_state = 100)"
      ],
      "metadata": {
        "execution": {
          "iopub.status.busy": "2023-11-26T20:37:46.089394Z",
          "iopub.execute_input": "2023-11-26T20:37:46.089749Z",
          "iopub.status.idle": "2023-11-26T20:37:46.098767Z",
          "shell.execute_reply.started": "2023-11-26T20:37:46.089696Z",
          "shell.execute_reply": "2023-11-26T20:37:46.097658Z"
        },
        "trusted": true,
        "id": "7WZvrHnfXpyG"
      },
      "execution_count": null,
      "outputs": []
    },
    {
      "cell_type": "code",
      "source": [
        "from sklearn.preprocessing import MinMaxScaler\n",
        "\n",
        "scaler = MinMaxScaler()\n",
        "num_vars = ['price', 'fueleconomy', 'highwaympg', 'citympg']\n",
        "df_train[num_vars] = scaler.fit_transform(df_train[num_vars])"
      ],
      "metadata": {
        "execution": {
          "iopub.status.busy": "2023-11-26T20:37:48.470182Z",
          "iopub.execute_input": "2023-11-26T20:37:48.471117Z",
          "iopub.status.idle": "2023-11-26T20:37:48.860199Z",
          "shell.execute_reply.started": "2023-11-26T20:37:48.470528Z",
          "shell.execute_reply": "2023-11-26T20:37:48.858979Z"
        },
        "trusted": true,
        "id": "4kmTqsZiXpyH"
      },
      "execution_count": null,
      "outputs": []
    },
    {
      "cell_type": "code",
      "source": [
        "df_train.head(5)"
      ],
      "metadata": {
        "execution": {
          "iopub.status.busy": "2023-11-26T20:36:22.599182Z",
          "iopub.execute_input": "2023-11-26T20:36:22.599611Z",
          "iopub.status.idle": "2023-11-26T20:36:22.620621Z",
          "shell.execute_reply.started": "2023-11-26T20:36:22.599536Z",
          "shell.execute_reply": "2023-11-26T20:36:22.619797Z"
        },
        "trusted": true,
        "id": "AH9EedF0XpyH",
        "outputId": "691447ed-8851-4f87-9976-bf08f91c3433"
      },
      "execution_count": null,
      "outputs": [
        {
          "execution_count": 84,
          "output_type": "execute_result",
          "data": {
            "text/plain": "      citympg  CompanyName  highwaympg  fueleconomy\n122  0.500000     plymouth    0.567568     0.530864\n125  0.166667      porsche    0.270270     0.213992\n166  0.361111       toyota    0.324324     0.344307\n1    0.222222  alfa-romero    0.270270     0.244170\n199  0.111111        volvo    0.135135     0.122085",
            "text/html": "<div>\n<style scoped>\n    .dataframe tbody tr th:only-of-type {\n        vertical-align: middle;\n    }\n\n    .dataframe tbody tr th {\n        vertical-align: top;\n    }\n\n    .dataframe thead th {\n        text-align: right;\n    }\n</style>\n<table border=\"1\" class=\"dataframe\">\n  <thead>\n    <tr style=\"text-align: right;\">\n      <th></th>\n      <th>citympg</th>\n      <th>CompanyName</th>\n      <th>highwaympg</th>\n      <th>fueleconomy</th>\n    </tr>\n  </thead>\n  <tbody>\n    <tr>\n      <th>122</th>\n      <td>0.500000</td>\n      <td>plymouth</td>\n      <td>0.567568</td>\n      <td>0.530864</td>\n    </tr>\n    <tr>\n      <th>125</th>\n      <td>0.166667</td>\n      <td>porsche</td>\n      <td>0.270270</td>\n      <td>0.213992</td>\n    </tr>\n    <tr>\n      <th>166</th>\n      <td>0.361111</td>\n      <td>toyota</td>\n      <td>0.324324</td>\n      <td>0.344307</td>\n    </tr>\n    <tr>\n      <th>1</th>\n      <td>0.222222</td>\n      <td>alfa-romero</td>\n      <td>0.270270</td>\n      <td>0.244170</td>\n    </tr>\n    <tr>\n      <th>199</th>\n      <td>0.111111</td>\n      <td>volvo</td>\n      <td>0.135135</td>\n      <td>0.122085</td>\n    </tr>\n  </tbody>\n</table>\n</div>"
          },
          "metadata": {}
        }
      ]
    },
    {
      "cell_type": "code",
      "source": [
        "df_train.describe()"
      ],
      "metadata": {
        "execution": {
          "iopub.status.busy": "2023-11-26T20:02:11.334412Z",
          "iopub.execute_input": "2023-11-26T20:02:11.334842Z",
          "iopub.status.idle": "2023-11-26T20:02:11.375441Z",
          "shell.execute_reply.started": "2023-11-26T20:02:11.334765Z",
          "shell.execute_reply": "2023-11-26T20:02:11.374295Z"
        },
        "trusted": true,
        "id": "QDHzMF_wXpyK",
        "outputId": "18e2af41-4b0f-4701-cb50-e7a634b89332"
      },
      "execution_count": null,
      "outputs": [
        {
          "execution_count": 46,
          "output_type": "execute_result",
          "data": {
            "text/plain": "            price     citympg  highwaympg  fueleconomy\ncount  143.000000  143.000000  143.000000   143.000000\nmean     0.219309    0.344211    0.374976     0.358265\nstd      0.215682    0.186165    0.188477     0.185980\nmin      0.000000    0.000000    0.000000     0.000000\n25%      0.067298    0.166667    0.216216     0.198903\n50%      0.140343    0.333333    0.378378     0.344307\n75%      0.313479    0.500000    0.527027     0.512346\nmax      1.000000    1.000000    1.000000     1.000000",
            "text/html": "<div>\n<style scoped>\n    .dataframe tbody tr th:only-of-type {\n        vertical-align: middle;\n    }\n\n    .dataframe tbody tr th {\n        vertical-align: top;\n    }\n\n    .dataframe thead th {\n        text-align: right;\n    }\n</style>\n<table border=\"1\" class=\"dataframe\">\n  <thead>\n    <tr style=\"text-align: right;\">\n      <th></th>\n      <th>price</th>\n      <th>citympg</th>\n      <th>highwaympg</th>\n      <th>fueleconomy</th>\n    </tr>\n  </thead>\n  <tbody>\n    <tr>\n      <th>count</th>\n      <td>143.000000</td>\n      <td>143.000000</td>\n      <td>143.000000</td>\n      <td>143.000000</td>\n    </tr>\n    <tr>\n      <th>mean</th>\n      <td>0.219309</td>\n      <td>0.344211</td>\n      <td>0.374976</td>\n      <td>0.358265</td>\n    </tr>\n    <tr>\n      <th>std</th>\n      <td>0.215682</td>\n      <td>0.186165</td>\n      <td>0.188477</td>\n      <td>0.185980</td>\n    </tr>\n    <tr>\n      <th>min</th>\n      <td>0.000000</td>\n      <td>0.000000</td>\n      <td>0.000000</td>\n      <td>0.000000</td>\n    </tr>\n    <tr>\n      <th>25%</th>\n      <td>0.067298</td>\n      <td>0.166667</td>\n      <td>0.216216</td>\n      <td>0.198903</td>\n    </tr>\n    <tr>\n      <th>50%</th>\n      <td>0.140343</td>\n      <td>0.333333</td>\n      <td>0.378378</td>\n      <td>0.344307</td>\n    </tr>\n    <tr>\n      <th>75%</th>\n      <td>0.313479</td>\n      <td>0.500000</td>\n      <td>0.527027</td>\n      <td>0.512346</td>\n    </tr>\n    <tr>\n      <th>max</th>\n      <td>1.000000</td>\n      <td>1.000000</td>\n      <td>1.000000</td>\n      <td>1.000000</td>\n    </tr>\n  </tbody>\n</table>\n</div>"
          },
          "metadata": {}
        }
      ]
    },
    {
      "cell_type": "markdown",
      "source": [
        "### Step 8 : Model Building"
      ],
      "metadata": {
        "id": "N9swl5rrXpyK"
      }
    },
    {
      "cell_type": "code",
      "source": [
        "import pandas as pd\n",
        "from sklearn.model_selection import train_test_split\n",
        "from sklearn.linear_model import LinearRegression\n",
        "from sklearn.metrics import mean_squared_error, r2_score\n",
        "import matplotlib.pyplot as plt\n",
        "# Step 1: Prepare the data\n",
        "X = cars1[['fueleconomy']]  # Feature variable (independent variable)\n",
        "y = cars1['price']           # Target variable (dependent variable)"
      ],
      "metadata": {
        "execution": {
          "iopub.status.busy": "2023-11-26T20:10:31.808999Z",
          "iopub.execute_input": "2023-11-26T20:10:31.809429Z",
          "iopub.status.idle": "2023-11-26T20:10:31.818769Z",
          "shell.execute_reply.started": "2023-11-26T20:10:31.809370Z",
          "shell.execute_reply": "2023-11-26T20:10:31.816754Z"
        },
        "trusted": true,
        "id": "d1MZpbGBXpyK"
      },
      "execution_count": null,
      "outputs": []
    },
    {
      "cell_type": "code",
      "source": [
        "# Step 2: Split the data into training and testing sets\n",
        "X_train, X_test, y_train, y_test = train_test_split(X, y, test_size=0.3, random_state=42)"
      ],
      "metadata": {
        "execution": {
          "iopub.status.busy": "2023-11-26T20:37:58.399022Z",
          "iopub.execute_input": "2023-11-26T20:37:58.399733Z",
          "iopub.status.idle": "2023-11-26T20:37:58.406937Z",
          "shell.execute_reply.started": "2023-11-26T20:37:58.399668Z",
          "shell.execute_reply": "2023-11-26T20:37:58.405602Z"
        },
        "trusted": true,
        "id": "vl93TiPzXpyL"
      },
      "execution_count": null,
      "outputs": []
    },
    {
      "cell_type": "code",
      "source": [
        "# Step 3: Create a linear regression model and fit it with training data\n",
        "model = LinearRegression()\n",
        "model.fit(X_train, y_train)"
      ],
      "metadata": {
        "execution": {
          "iopub.status.busy": "2023-11-26T20:37:56.413331Z",
          "iopub.execute_input": "2023-11-26T20:37:56.413729Z",
          "iopub.status.idle": "2023-11-26T20:37:56.422193Z",
          "shell.execute_reply.started": "2023-11-26T20:37:56.413648Z",
          "shell.execute_reply": "2023-11-26T20:37:56.421458Z"
        },
        "trusted": true,
        "id": "4SOuac48XpyL",
        "outputId": "baf4ce7c-d16e-4e98-e6e3-1e6955d198af"
      },
      "execution_count": null,
      "outputs": [
        {
          "execution_count": 100,
          "output_type": "execute_result",
          "data": {
            "text/plain": "LinearRegression(copy_X=True, fit_intercept=True, n_jobs=None,\n         normalize=False)"
          },
          "metadata": {}
        }
      ]
    },
    {
      "cell_type": "code",
      "source": [
        "# Step 4: Check the results of model fitting\n",
        "# Predictions on the training set\n",
        "y_train_pred = model.predict(X_train)\n",
        "\n",
        "# Predictions on the test set\n",
        "y_test_pred = model.predict(X_test)"
      ],
      "metadata": {
        "execution": {
          "iopub.status.busy": "2023-11-26T20:38:00.405631Z",
          "iopub.execute_input": "2023-11-26T20:38:00.406007Z",
          "iopub.status.idle": "2023-11-26T20:38:00.413387Z",
          "shell.execute_reply.started": "2023-11-26T20:38:00.405931Z",
          "shell.execute_reply": "2023-11-26T20:38:00.412321Z"
        },
        "trusted": true,
        "id": "rgabO4QMXpyU"
      },
      "execution_count": null,
      "outputs": []
    },
    {
      "cell_type": "code",
      "source": [
        "# Calculate RMSE without using squared parameter\n",
        "train_rmse = np.sqrt(mean_squared_error(y_train, y_train_pred))\n",
        "test_rmse = np.sqrt(mean_squared_error(y_test, y_test_pred))\n",
        "\n",
        "# Calculate R-squared manually\n",
        "def r2_score_manual(y_true, y_pred):\n",
        "    mean_y_true = np.mean(y_true)\n",
        "    ss_total = np.sum((y_true - mean_y_true)**2)\n",
        "    ss_residual = np.sum((y_true - y_pred)**2)\n",
        "    r2 = 1 - (ss_residual / ss_total)\n",
        "    return r2\n",
        "\n",
        "r2_train = r2_score_manual(y_train, y_train_pred)\n",
        "r2_test = r2_score_manual(y_test, y_test_pred)\n",
        "\n",
        "print(f\"Training RMSE: {train_rmse}\")\n",
        "print(f\"Testing RMSE: {test_rmse}\")\n",
        "print(f\"R-squared (Training): {r2_train}\")\n",
        "print(f\"R-squared (Testing): {r2_test}\")"
      ],
      "metadata": {
        "execution": {
          "iopub.status.busy": "2023-11-26T20:38:03.102568Z",
          "iopub.execute_input": "2023-11-26T20:38:03.103462Z",
          "iopub.status.idle": "2023-11-26T20:38:03.117207Z",
          "shell.execute_reply.started": "2023-11-26T20:38:03.103376Z",
          "shell.execute_reply": "2023-11-26T20:38:03.116275Z"
        },
        "trusted": true,
        "id": "l4y6W03aXpyU",
        "outputId": "b9182f35-2fc4-4a48-abc3-6bda6e425cac"
      },
      "execution_count": null,
      "outputs": [
        {
          "name": "stdout",
          "text": "Training RMSE: 5163.726228542304\nTesting RMSE: 7066.2113496148\nR-squared (Training): 0.5625221108775154\nR-squared (Testing): 0.27932795736675875\n",
          "output_type": "stream"
        }
      ]
    },
    {
      "cell_type": "markdown",
      "source": [
        "#### Training RMSE (Root Mean Squared Error):\n",
        "\n",
        "##### Training RMSE: 5163.73\n",
        "* This value represents the average deviation of the predicted prices from the actual prices in your training dataset.\n",
        "\n",
        "* In this context, it means that, on average, your model's predictions for the price of a car in the training set are off by approximately 5163.73.\n",
        "Testing RMSE (Root Mean Squared Error):\n",
        "\n",
        "##### Testing RMSE: 7066.21\n",
        "* Similar to the training RMSE, this value represents the average deviation of the predicted prices from the actual prices, but it is calculated on a separate testing dataset that the model has not seen during training.\n",
        "\n",
        "* In this case, it means that, on average, your model's predictions for the price of a car in the testing set are off by approximately 7066.21.\n",
        "\n",
        "#### R-squared (Training):\n",
        "\n",
        "##### R-squared (Training): 0.5625\n",
        "* R-squared is a measure of how well the independent variable (in this case, 'Fuel Economy') explains the variability in the dependent variable ('Price').\n",
        "\n",
        "* An R-squared value of 0.5625 indicates that about 56.25% of the variability in the training set response variable (price) is explained by your model.\n",
        "R-squared (Testing):\n",
        "\n",
        "##### R-squared (Testing): 0.2793\n",
        "* Similar to the training R-squared, but calculated on the testing dataset.\n",
        "\n",
        "* An R-squared value of 0.2793 indicates that about 27.93% of the variability in the testing set response variable (price) is explained by your model."
      ],
      "metadata": {
        "id": "2rYYj3wPXpyU"
      }
    },
    {
      "cell_type": "code",
      "source": [
        "# Step 5: Visualize the results\n",
        "plt.figure(figsize=(10, 6))\n",
        "\n",
        "# Scatter plot for training set\n",
        "plt.scatter(X_train, y_train, alpha=0.5, label='Training Data')\n",
        "\n",
        "# Regression line\n",
        "plt.plot(X_train, y_train_pred, color='red', linewidth=2, label='Regression Line')\n",
        "\n",
        "plt.title('Linear Regression: Price vs. Fuel Economy')\n",
        "plt.xlabel('Fuel Economy')\n",
        "plt.ylabel('Price')\n",
        "plt.legend()\n",
        "plt.show()"
      ],
      "metadata": {
        "execution": {
          "iopub.status.busy": "2023-11-26T20:29:27.971782Z",
          "iopub.execute_input": "2023-11-26T20:29:27.972188Z",
          "iopub.status.idle": "2023-11-26T20:29:28.407578Z",
          "shell.execute_reply.started": "2023-11-26T20:29:27.972138Z",
          "shell.execute_reply": "2023-11-26T20:29:28.406218Z"
        },
        "trusted": true,
        "id": "qFoBsxJKXpyU",
        "outputId": "d551be19-9381-4397-b459-f5367e7f5746"
      },
      "execution_count": null,
      "outputs": [
        {
          "output_type": "display_data",
          "data": {
            "text/plain": "<Figure size 720x432 with 1 Axes>",
            "image/png": "[encoded data removed]"
          },
          "metadata": {}
        }
      ]
    },
    {
      "cell_type": "markdown",
      "source": [
        "#### Direction of the Relationship:\n",
        "\n",
        "* As fuel economy increases (moves to the right on the X-axis), the price of the cars tends to decrease (moves down on the Y-axis).\n",
        "\n",
        "* Conversely, as fuel economy decreases, the price of the cars tends to increase.\n",
        "\n",
        "* In the context of cars, a negative slope suggests that, on average, cars with better fuel economy might have lower prices, while cars with lower fuel economy might have higher prices."
      ],
      "metadata": {
        "id": "sTYMT38VXpyU"
      }
    },
    {
      "cell_type": "code",
      "source": [
        "# Step 6: Apply the model for predictions\n",
        "# For example, predict the price for a given fuel economy value\n",
        "new_fuel_economy = [[23.655]]  # Replace some_value with the fuel economy value to predict\n",
        "predicted_price = model.predict(new_fuel_economy)\n",
        "print(f\"Predicted Price for Fuel Economy {new_fuel_economy[0][0]}: {predicted_price[0]}\")"
      ],
      "metadata": {
        "execution": {
          "iopub.status.busy": "2023-11-26T20:30:50.319782Z",
          "iopub.execute_input": "2023-11-26T20:30:50.320661Z",
          "iopub.status.idle": "2023-11-26T20:30:50.328542Z",
          "shell.execute_reply.started": "2023-11-26T20:30:50.320586Z",
          "shell.execute_reply": "2023-11-26T20:30:50.327467Z"
        },
        "trusted": true,
        "id": "PsubDwz7XpyV",
        "outputId": "fc770f66-dc3f-4aaf-d326-1e688a950305"
      },
      "execution_count": null,
      "outputs": [
        {
          "name": "stdout",
          "text": "Predicted Price for Fuel Economy 23.655: 16667.630870144385\n",
          "output_type": "stream"
        }
      ]
    },
    {
      "cell_type": "code",
      "source": [
        "print('coefficient of determination:', model.score(X, y))"
      ],
      "metadata": {
        "execution": {
          "iopub.status.busy": "2023-11-26T20:34:46.973810Z",
          "iopub.execute_input": "2023-11-26T20:34:46.974333Z",
          "iopub.status.idle": "2023-11-26T20:34:46.982710Z",
          "shell.execute_reply.started": "2023-11-26T20:34:46.974248Z",
          "shell.execute_reply": "2023-11-26T20:34:46.981867Z"
        },
        "trusted": true,
        "id": "zc5_bV1YXpyV",
        "outputId": "6bca78e9-8b13-4ebc-a91f-b2bb023b6a71"
      },
      "execution_count": null,
      "outputs": [
        {
          "name": "stdout",
          "text": "coefficient of determination: 0.4847133445800917\n",
          "output_type": "stream"
        }
      ]
    },
    {
      "cell_type": "markdown",
      "source": [
        "* **Accuracy isn't good meaning further model improvement or exploration may be necessary to enhance predictive performance on the testing set.**\n",
        "* Considerations might include feature engineering, model tuning, or using more advanced regression technique"
      ],
      "metadata": {
        "id": "JSZFevEGXpyV"
      }
    }
  ]
}