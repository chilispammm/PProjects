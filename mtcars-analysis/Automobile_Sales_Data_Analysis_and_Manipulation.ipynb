{
  "metadata": {
    "kernelspec": {
      "name": "ir",
      "display_name": "R",
      "language": "R"
    },
    "language_info": {
      "name": "R",
      "codemirror_mode": "r",
      "pygments_lexer": "r",
      "mimetype": "text/x-r-source",
      "file_extension": ".r",
      "version": "4.0.5"
    },
    "colab": {
      "provenance": []
    }
  },
  "nbformat_minor": 0,
  "nbformat": 4,
  "cells": [
    {
      "cell_type": "code",
      "source": [
        "# This R environment comes with many helpful analytics packages installed\n",
        "# It is defined by the kaggle/rstats Docker image: https://github.com/kaggle/docker-rstats\n",
        "# For example, here's a helpful package to load\n",
        "\n",
        "library(tidyverse) # metapackage of all tidyverse packages\n",
        "\n",
        "# Input data files are available in the read-only \"../input/\" directory\n",
        "# For example, running this (by clicking run or pressing Shift+Enter) will list all files under the input directory\n",
        "\n",
        "list.files(path = \"../input\")\n",
        "\n"
      ],
      "metadata": {
        "_uuid": "051d70d956493feee0c6d64651c6a088724dca2a",
        "_execution_state": "idle",
        "execution": {
          "iopub.status.busy": "2023-10-06T20:46:03.787256Z",
          "iopub.execute_input": "2023-10-06T20:46:03.788782Z",
          "iopub.status.idle": "2023-10-06T20:46:03.807930Z"
        },
        "trusted": true,
        "id": "Xvw6qUBsx9lC",
        "outputId": "ed5bef88-cc55-4150-e3e0-f22363632350"
      },
      "execution_count": null,
      "outputs": [
        {
          "output_type": "display_data",
          "data": {
            "text/html": "'sales-data'",
            "text/markdown": "'sales-data'",
            "text/latex": "'sales-data'",
            "text/plain": "[1] \"sales-data\""
          },
          "metadata": {}
        }
      ]
    },
    {
      "cell_type": "code",
      "source": [
        "# Load required libraries\n",
        "library(dplyr)      # Data manipulation\n",
        "library(ggplot2)    # Data visualization\n",
        "library(lubridate)  # Date and time manipulation\n",
        "library(readxl)     # Import spreadsheets\n",
        "#Import the dataset\n",
        "sales_data <- read_excel(\"/kaggle/input/sales-data/Sales(1).xlsx\")\n",
        "head(sales_data, 3)"
      ],
      "metadata": {
        "execution": {
          "iopub.status.busy": "2023-10-06T20:45:59.610198Z",
          "iopub.execute_input": "2023-10-06T20:45:59.611622Z",
          "iopub.status.idle": "2023-10-06T20:45:59.693431Z"
        },
        "trusted": true,
        "id": "rWHaEzwBx9lZ",
        "outputId": "e8279086-ab0d-4d00-e94f-27678e852ea8"
      },
      "execution_count": null,
      "outputs": [
        {
          "output_type": "display_data",
          "data": {
            "text/html": "<table class=\"dataframe\">\n<caption>A tibble: 3 × 15</caption>\n<thead>\n\t<tr><th scope=col>manufact</th><th scope=col>model</th><th scope=col>sales</th><th scope=col>resale</th><th scope=col>type</th><th scope=col>price</th><th scope=col>engine_s</th><th scope=col>horsepow</th><th scope=col>wheelbas</th><th scope=col>width</th><th scope=col>length</th><th scope=col>curb_wgt</th><th scope=col>fuel_cap</th><th scope=col>mpg</th><th scope=col>Grp_Horse</th></tr>\n\t<tr><th scope=col>&lt;chr&gt;</th><th scope=col>&lt;chr&gt;</th><th scope=col>&lt;dbl&gt;</th><th scope=col>&lt;dbl&gt;</th><th scope=col>&lt;dbl&gt;</th><th scope=col>&lt;dbl&gt;</th><th scope=col>&lt;dbl&gt;</th><th scope=col>&lt;dbl&gt;</th><th scope=col>&lt;dbl&gt;</th><th scope=col>&lt;dbl&gt;</th><th scope=col>&lt;dbl&gt;</th><th scope=col>&lt;dbl&gt;</th><th scope=col>&lt;dbl&gt;</th><th scope=col>&lt;dbl&gt;</th><th scope=col>&lt;dbl&gt;</th></tr>\n</thead>\n<tbody>\n\t<tr><td>Chevrolet</td><td>Metro </td><td>21.855</td><td>5.16</td><td>0</td><td> 9.235</td><td>1.0</td><td> 55</td><td> 93.1</td><td>62.6</td><td>149.4</td><td>1.895</td><td>10.3</td><td>45</td><td> 1</td></tr>\n\t<tr><td>Hyundai  </td><td>Accent</td><td>41.184</td><td>5.86</td><td>0</td><td> 9.699</td><td>1.5</td><td> 92</td><td>   NA</td><td>65.7</td><td>166.7</td><td>2.240</td><td>11.9</td><td>31</td><td>NA</td></tr>\n\t<tr><td>Saturn   </td><td>SL    </td><td>80.620</td><td>9.20</td><td>0</td><td>10.685</td><td>1.9</td><td>100</td><td>102.4</td><td>66.4</td><td>176.9</td><td>   NA</td><td>12.1</td><td>33</td><td> 1</td></tr>\n</tbody>\n</table>\n",
            "text/markdown": "\nA tibble: 3 × 15\n\n| manufact &lt;chr&gt; | model &lt;chr&gt; | sales &lt;dbl&gt; | resale &lt;dbl&gt; | type &lt;dbl&gt; | price &lt;dbl&gt; | engine_s &lt;dbl&gt; | horsepow &lt;dbl&gt; | wheelbas &lt;dbl&gt; | width &lt;dbl&gt; | length &lt;dbl&gt; | curb_wgt &lt;dbl&gt; | fuel_cap &lt;dbl&gt; | mpg &lt;dbl&gt; | Grp_Horse &lt;dbl&gt; |\n|---|---|---|---|---|---|---|---|---|---|---|---|---|---|---|\n| Chevrolet | Metro  | 21.855 | 5.16 | 0 |  9.235 | 1.0 |  55 |  93.1 | 62.6 | 149.4 | 1.895 | 10.3 | 45 |  1 |\n| Hyundai   | Accent | 41.184 | 5.86 | 0 |  9.699 | 1.5 |  92 |    NA | 65.7 | 166.7 | 2.240 | 11.9 | 31 | NA |\n| Saturn    | SL     | 80.620 | 9.20 | 0 | 10.685 | 1.9 | 100 | 102.4 | 66.4 | 176.9 |    NA | 12.1 | 33 |  1 |\n\n",
            "text/latex": "A tibble: 3 × 15\n\\begin{tabular}{lllllllllllllll}\n manufact & model & sales & resale & type & price & engine\\_s & horsepow & wheelbas & width & length & curb\\_wgt & fuel\\_cap & mpg & Grp\\_Horse\\\\\n <chr> & <chr> & <dbl> & <dbl> & <dbl> & <dbl> & <dbl> & <dbl> & <dbl> & <dbl> & <dbl> & <dbl> & <dbl> & <dbl> & <dbl>\\\\\n\\hline\n\t Chevrolet & Metro  & 21.855 & 5.16 & 0 &  9.235 & 1.0 &  55 &  93.1 & 62.6 & 149.4 & 1.895 & 10.3 & 45 &  1\\\\\n\t Hyundai   & Accent & 41.184 & 5.86 & 0 &  9.699 & 1.5 &  92 &    NA & 65.7 & 166.7 & 2.240 & 11.9 & 31 & NA\\\\\n\t Saturn    & SL     & 80.620 & 9.20 & 0 & 10.685 & 1.9 & 100 & 102.4 & 66.4 & 176.9 &    NA & 12.1 & 33 &  1\\\\\n\\end{tabular}\n",
            "text/plain": "  manufact  model  sales  resale type price  engine_s horsepow wheelbas width\n1 Chevrolet Metro  21.855 5.16   0     9.235 1.0       55       93.1    62.6 \n2 Hyundai   Accent 41.184 5.86   0     9.699 1.5       92         NA    65.7 \n3 Saturn    SL     80.620 9.20   0    10.685 1.9      100      102.4    66.4 \n  length curb_wgt fuel_cap mpg Grp_Horse\n1 149.4  1.895    10.3     45   1       \n2 166.7  2.240    11.9     31  NA       \n3 176.9     NA    12.1     33   1       "
          },
          "metadata": {}
        }
      ]
    },
    {
      "cell_type": "markdown",
      "source": [
        "**1(a) Update the missing observations using any appropriate technique. Describe the\n",
        "and illustrate the chosen technique**"
      ],
      "metadata": {
        "id": "7jnrVAKrx9ld"
      }
    },
    {
      "cell_type": "code",
      "source": [
        "#Check how many missing values are there\n",
        "missing_values=is.na(sales_data)\n",
        "sum(missing_values)\n",
        "summary(sales_data)"
      ],
      "metadata": {
        "execution": {
          "iopub.status.busy": "2023-10-06T20:45:59.696527Z",
          "iopub.execute_input": "2023-10-06T20:45:59.697839Z",
          "iopub.status.idle": "2023-10-06T20:45:59.723933Z"
        },
        "trusted": true,
        "id": "Q7-lwMWJx9ll",
        "outputId": "c01b9697-8b2b-411a-c7f9-c6c5c034872b"
      },
      "execution_count": null,
      "outputs": [
        {
          "output_type": "display_data",
          "data": {
            "text/html": "115",
            "text/markdown": "115",
            "text/latex": "115",
            "text/plain": "[1] 115"
          },
          "metadata": {}
        },
        {
          "output_type": "display_data",
          "data": {
            "text/plain": "   manufact            model               sales            resale     \n Length:157         Length:157         Min.   :  0.11   Min.   : 5.16  \n Class :character   Class :character   1st Qu.: 13.96   1st Qu.:11.26  \n Mode  :character   Mode  :character   Median : 29.45   Median :14.18  \n                                       Mean   : 53.91   Mean   :18.07  \n                                       3rd Qu.: 69.32   3rd Qu.:19.88  \n                                       Max.   :540.56   Max.   :67.55  \n                                       NA's   :6        NA's   :36     \n      type          price           engine_s        horsepow    \n Min.   :0.00   Min.   : 9.235   Min.   :1.000   Min.   : 55.0  \n 1st Qu.:0.00   1st Qu.:18.176   1st Qu.:2.300   1st Qu.:149.0  \n Median :0.00   Median :23.099   Median :3.000   Median :180.0  \n Mean   :0.26   Mean   :27.646   Mean   :3.054   Mean   :186.6  \n 3rd Qu.:1.00   3rd Qu.:32.831   3rd Qu.:3.500   3rd Qu.:215.0  \n Max.   :1.00   Max.   :85.500   Max.   :8.000   Max.   :450.0  \n NA's   :7      NA's   :7        NA's   :4       NA's   :6      \n    wheelbas         width           length         curb_wgt    \n Min.   : 92.6   Min.   :62.60   Min.   :149.4   Min.   :1.895  \n 1st Qu.:103.0   1st Qu.:68.47   1st Qu.:178.0   1st Qu.:2.990  \n Median :107.0   Median :70.60   Median :188.2   Median :3.368  \n Mean   :107.5   Mean   :71.19   Mean   :187.8   Mean   :3.393  \n 3rd Qu.:112.0   3rd Qu.:73.53   3rd Qu.:196.4   3rd Qu.:3.821  \n Max.   :138.7   Max.   :79.90   Max.   :224.5   Max.   :5.572  \n NA's   :7       NA's   :5       NA's   :7       NA's   :8      \n    fuel_cap          mpg          Grp_Horse    \n Min.   :10.30   Min.   :15.00   Min.   :1.000  \n 1st Qu.:15.90   1st Qu.:21.00   1st Qu.:2.000  \n Median :17.35   Median :24.00   Median :3.000  \n Mean   :18.05   Mean   :23.76   Mean   :3.311  \n 3rd Qu.:19.80   3rd Qu.:26.00   3rd Qu.:4.000  \n Max.   :32.00   Max.   :45.00   Max.   :9.000  \n NA's   :7       NA's   :6       NA's   :9      "
          },
          "metadata": {}
        }
      ]
    },
    {
      "cell_type": "markdown",
      "source": [
        "Looking at the summary statistics, we can see variables *sales*, *resale*, *type*, *price, engine_s, horsepow, wheelbas, width, length, curb_wgt, fuel_cap, mpg, Grp_Horse* all have NA values of varying amounts."
      ],
      "metadata": {
        "id": "Wth3yVvMx9lq"
      }
    },
    {
      "cell_type": "code",
      "source": [
        "#Instead of pasting 13 lines of code to carry out imputing,\n",
        "   #we shall make a loop in order to make our work cleaner\n",
        "\n",
        "# List of variables to impute\n",
        "variables_to_impute <- c(\"type\", \"sales\", \"resale\", \"price\",\n",
        "                         \"engine_s\", \"horsepow\", \"wheelbas\",\n",
        "                         \"width\", \"length\", \"curb_wgt\", \"fuel_cap\",\n",
        "                         \"mpg\", \"Grp_Horse\")\n",
        "\n",
        "# Loop through each variable and impute missing values with mean\n",
        "for (variable in variables_to_impute) {\n",
        "\n",
        "  sales_data[[variable]][is.na(sales_data[[variable]])] <- mean(sales_data[[variable]], na.rm = TRUE)\n",
        "}\n",
        "summary(sales_data)\n",
        "head(sales_data, 7)"
      ],
      "metadata": {
        "execution": {
          "iopub.status.busy": "2023-10-06T20:45:59.726407Z",
          "iopub.execute_input": "2023-10-06T20:45:59.727661Z",
          "iopub.status.idle": "2023-10-06T20:45:59.787697Z"
        },
        "trusted": true,
        "id": "CqmSRjnex9ls",
        "outputId": "db6a7b46-6203-48c7-c466-cc0f0b99d14c"
      },
      "execution_count": null,
      "outputs": [
        {
          "output_type": "display_data",
          "data": {
            "text/plain": "   manufact            model               sales            resale     \n Length:157         Length:157         Min.   :  0.11   Min.   : 5.16  \n Class :character   Class :character   1st Qu.: 14.35   1st Qu.:12.54  \n Mode  :character   Mode  :character   Median : 31.15   Median :17.71  \n                                       Mean   : 53.91   Mean   :18.07  \n                                       3rd Qu.: 67.96   3rd Qu.:18.14  \n                                       Max.   :540.56   Max.   :67.55  \n      type          price           engine_s        horsepow    \n Min.   :0.00   Min.   : 9.235   Min.   :1.000   Min.   : 55.0  \n 1st Qu.:0.00   1st Qu.:18.575   1st Qu.:2.300   1st Qu.:150.0  \n Median :0.00   Median :24.340   Median :3.000   Median :185.0  \n Mean   :0.26   Mean   :27.646   Mean   :3.054   Mean   :186.6  \n 3rd Qu.:0.26   3rd Qu.:31.930   3rd Qu.:3.500   3rd Qu.:215.0  \n Max.   :1.00   Max.   :85.500   Max.   :8.000   Max.   :450.0  \n    wheelbas         width           length         curb_wgt    \n Min.   : 92.6   Min.   :62.60   Min.   :149.4   Min.   :1.895  \n 1st Qu.:103.2   1st Qu.:68.50   1st Qu.:178.2   1st Qu.:2.998  \n Median :107.0   Median :70.90   Median :187.8   Median :3.389  \n Mean   :107.5   Mean   :71.19   Mean   :187.8   Mean   :3.393  \n 3rd Qu.:111.6   3rd Qu.:73.40   3rd Qu.:196.1   3rd Qu.:3.770  \n Max.   :138.7   Max.   :79.90   Max.   :224.5   Max.   :5.572  \n    fuel_cap          mpg          Grp_Horse    \n Min.   :10.30   Min.   :15.00   Min.   :1.000  \n 1st Qu.:15.90   1st Qu.:21.00   1st Qu.:2.000  \n Median :17.50   Median :24.00   Median :3.000  \n Mean   :18.05   Mean   :23.76   Mean   :3.311  \n 3rd Qu.:19.50   3rd Qu.:26.00   3rd Qu.:4.000  \n Max.   :32.00   Max.   :45.00   Max.   :9.000  "
          },
          "metadata": {}
        },
        {
          "output_type": "display_data",
          "data": {
            "text/html": "<table class=\"dataframe\">\n<caption>A tibble: 7 × 15</caption>\n<thead>\n\t<tr><th scope=col>manufact</th><th scope=col>model</th><th scope=col>sales</th><th scope=col>resale</th><th scope=col>type</th><th scope=col>price</th><th scope=col>engine_s</th><th scope=col>horsepow</th><th scope=col>wheelbas</th><th scope=col>width</th><th scope=col>length</th><th scope=col>curb_wgt</th><th scope=col>fuel_cap</th><th scope=col>mpg</th><th scope=col>Grp_Horse</th></tr>\n\t<tr><th scope=col>&lt;chr&gt;</th><th scope=col>&lt;chr&gt;</th><th scope=col>&lt;dbl&gt;</th><th scope=col>&lt;dbl&gt;</th><th scope=col>&lt;dbl&gt;</th><th scope=col>&lt;dbl&gt;</th><th scope=col>&lt;dbl&gt;</th><th scope=col>&lt;dbl&gt;</th><th scope=col>&lt;dbl&gt;</th><th scope=col>&lt;dbl&gt;</th><th scope=col>&lt;dbl&gt;</th><th scope=col>&lt;dbl&gt;</th><th scope=col>&lt;dbl&gt;</th><th scope=col>&lt;dbl&gt;</th><th scope=col>&lt;dbl&gt;</th></tr>\n</thead>\n<tbody>\n\t<tr><td>Chevrolet</td><td>Metro   </td><td> 21.855</td><td> 5.160</td><td>0</td><td> 9.235</td><td>1.0</td><td> 55</td><td> 93.1000</td><td>62.6</td><td>149.4</td><td>1.895000</td><td>10.30000</td><td>45.00000</td><td>1.000000</td></tr>\n\t<tr><td>Hyundai  </td><td>Accent  </td><td> 41.184</td><td> 5.860</td><td>0</td><td> 9.699</td><td>1.5</td><td> 92</td><td>107.4573</td><td>65.7</td><td>166.7</td><td>2.240000</td><td>11.90000</td><td>31.00000</td><td>3.310811</td></tr>\n\t<tr><td>Saturn   </td><td>SL      </td><td> 80.620</td><td> 9.200</td><td>0</td><td>10.685</td><td>1.9</td><td>100</td><td>102.4000</td><td>66.4</td><td>176.9</td><td>3.392631</td><td>12.10000</td><td>33.00000</td><td>1.000000</td></tr>\n\t<tr><td>Saturn   </td><td>SC      </td><td> 24.546</td><td>10.590</td><td>0</td><td>12.535</td><td>1.9</td><td>100</td><td>102.4000</td><td>66.4</td><td>180.0</td><td>2.367000</td><td>12.10000</td><td>23.76093</td><td>1.000000</td></tr>\n\t<tr><td>Acura    </td><td>Integra </td><td> 16.919</td><td>16.360</td><td>0</td><td>21.500</td><td>1.8</td><td>140</td><td>101.2000</td><td>67.3</td><td>172.4</td><td>2.639000</td><td>18.04533</td><td>28.00000</td><td>2.000000</td></tr>\n\t<tr><td>Audi     </td><td>A4      </td><td> 20.397</td><td>22.255</td><td>0</td><td>23.990</td><td>1.8</td><td>150</td><td>102.6000</td><td>68.2</td><td>178.0</td><td>2.998000</td><td>16.40000</td><td>27.00000</td><td>2.000000</td></tr>\n\t<tr><td>Chevrolet</td><td>Cavalier</td><td>145.519</td><td> 9.250</td><td>0</td><td>13.260</td><td>2.2</td><td>115</td><td>104.1000</td><td>67.9</td><td>180.9</td><td>2.676000</td><td>14.30000</td><td>27.00000</td><td>2.000000</td></tr>\n</tbody>\n</table>\n",
            "text/markdown": "\nA tibble: 7 × 15\n\n| manufact &lt;chr&gt; | model &lt;chr&gt; | sales &lt;dbl&gt; | resale &lt;dbl&gt; | type &lt;dbl&gt; | price &lt;dbl&gt; | engine_s &lt;dbl&gt; | horsepow &lt;dbl&gt; | wheelbas &lt;dbl&gt; | width &lt;dbl&gt; | length &lt;dbl&gt; | curb_wgt &lt;dbl&gt; | fuel_cap &lt;dbl&gt; | mpg &lt;dbl&gt; | Grp_Horse &lt;dbl&gt; |\n|---|---|---|---|---|---|---|---|---|---|---|---|---|---|---|\n| Chevrolet | Metro    |  21.855 |  5.160 | 0 |  9.235 | 1.0 |  55 |  93.1000 | 62.6 | 149.4 | 1.895000 | 10.30000 | 45.00000 | 1.000000 |\n| Hyundai   | Accent   |  41.184 |  5.860 | 0 |  9.699 | 1.5 |  92 | 107.4573 | 65.7 | 166.7 | 2.240000 | 11.90000 | 31.00000 | 3.310811 |\n| Saturn    | SL       |  80.620 |  9.200 | 0 | 10.685 | 1.9 | 100 | 102.4000 | 66.4 | 176.9 | 3.392631 | 12.10000 | 33.00000 | 1.000000 |\n| Saturn    | SC       |  24.546 | 10.590 | 0 | 12.535 | 1.9 | 100 | 102.4000 | 66.4 | 180.0 | 2.367000 | 12.10000 | 23.76093 | 1.000000 |\n| Acura     | Integra  |  16.919 | 16.360 | 0 | 21.500 | 1.8 | 140 | 101.2000 | 67.3 | 172.4 | 2.639000 | 18.04533 | 28.00000 | 2.000000 |\n| Audi      | A4       |  20.397 | 22.255 | 0 | 23.990 | 1.8 | 150 | 102.6000 | 68.2 | 178.0 | 2.998000 | 16.40000 | 27.00000 | 2.000000 |\n| Chevrolet | Cavalier | 145.519 |  9.250 | 0 | 13.260 | 2.2 | 115 | 104.1000 | 67.9 | 180.9 | 2.676000 | 14.30000 | 27.00000 | 2.000000 |\n\n",
            "text/latex": "A tibble: 7 × 15\n\\begin{tabular}{lllllllllllllll}\n manufact & model & sales & resale & type & price & engine\\_s & horsepow & wheelbas & width & length & curb\\_wgt & fuel\\_cap & mpg & Grp\\_Horse\\\\\n <chr> & <chr> & <dbl> & <dbl> & <dbl> & <dbl> & <dbl> & <dbl> & <dbl> & <dbl> & <dbl> & <dbl> & <dbl> & <dbl> & <dbl>\\\\\n\\hline\n\t Chevrolet & Metro    &  21.855 &  5.160 & 0 &  9.235 & 1.0 &  55 &  93.1000 & 62.6 & 149.4 & 1.895000 & 10.30000 & 45.00000 & 1.000000\\\\\n\t Hyundai   & Accent   &  41.184 &  5.860 & 0 &  9.699 & 1.5 &  92 & 107.4573 & 65.7 & 166.7 & 2.240000 & 11.90000 & 31.00000 & 3.310811\\\\\n\t Saturn    & SL       &  80.620 &  9.200 & 0 & 10.685 & 1.9 & 100 & 102.4000 & 66.4 & 176.9 & 3.392631 & 12.10000 & 33.00000 & 1.000000\\\\\n\t Saturn    & SC       &  24.546 & 10.590 & 0 & 12.535 & 1.9 & 100 & 102.4000 & 66.4 & 180.0 & 2.367000 & 12.10000 & 23.76093 & 1.000000\\\\\n\t Acura     & Integra  &  16.919 & 16.360 & 0 & 21.500 & 1.8 & 140 & 101.2000 & 67.3 & 172.4 & 2.639000 & 18.04533 & 28.00000 & 2.000000\\\\\n\t Audi      & A4       &  20.397 & 22.255 & 0 & 23.990 & 1.8 & 150 & 102.6000 & 68.2 & 178.0 & 2.998000 & 16.40000 & 27.00000 & 2.000000\\\\\n\t Chevrolet & Cavalier & 145.519 &  9.250 & 0 & 13.260 & 2.2 & 115 & 104.1000 & 67.9 & 180.9 & 2.676000 & 14.30000 & 27.00000 & 2.000000\\\\\n\\end{tabular}\n",
            "text/plain": "  manufact  model    sales   resale type price  engine_s horsepow wheelbas\n1 Chevrolet Metro     21.855  5.160 0     9.235 1.0       55       93.1000\n2 Hyundai   Accent    41.184  5.860 0     9.699 1.5       92      107.4573\n3 Saturn    SL        80.620  9.200 0    10.685 1.9      100      102.4000\n4 Saturn    SC        24.546 10.590 0    12.535 1.9      100      102.4000\n5 Acura     Integra   16.919 16.360 0    21.500 1.8      140      101.2000\n6 Audi      A4        20.397 22.255 0    23.990 1.8      150      102.6000\n7 Chevrolet Cavalier 145.519  9.250 0    13.260 2.2      115      104.1000\n  width length curb_wgt fuel_cap mpg      Grp_Horse\n1 62.6  149.4  1.895000 10.30000 45.00000 1.000000 \n2 65.7  166.7  2.240000 11.90000 31.00000 3.310811 \n3 66.4  176.9  3.392631 12.10000 33.00000 1.000000 \n4 66.4  180.0  2.367000 12.10000 23.76093 1.000000 \n5 67.3  172.4  2.639000 18.04533 28.00000 2.000000 \n6 68.2  178.0  2.998000 16.40000 27.00000 2.000000 \n7 67.9  180.9  2.676000 14.30000 27.00000 2.000000 "
          },
          "metadata": {}
        }
      ]
    },
    {
      "cell_type": "markdown",
      "source": [
        "Missing Values are now dealt with. These missing values were replaced by the means of corresponding columns/variables, since I thought deleting a whole 115 NAs would make further analysis innacurate"
      ],
      "metadata": {
        "id": "4ltbIkPkx9lw"
      }
    },
    {
      "cell_type": "markdown",
      "source": [
        "**1(b) Add two appropriate “time and repeated” variables in the data. Describe the\n",
        "technique used and the variables added to the data**"
      ],
      "metadata": {
        "id": "bNTrWh7gx9lz"
      }
    },
    {
      "cell_type": "code",
      "source": [
        "# Generate different years between 2013 and 2022\n",
        "set.seed(123)\n",
        "date = sort(as.integer (sample (2013:2022, 11, replace = TRUE)))\n",
        "a = data.frame(sales_data$manufact, sales_data$model)\n",
        "colnames(a) = c(\"manufact\", \"model\")\n",
        "\n",
        "a = a %>% group_by (manufact) %>% mutate (model_id = row_number()) %>% ungroup()\n",
        "highest_model_no = sort (unique (a $model_id))\n",
        "highest_model_no\n",
        "\n",
        "date\n",
        "\n",
        "year = c()\n",
        "for (i in 1:nrow(a)){\n",
        "  year[i] = date [a$model_id[i]]\n",
        "}\n",
        "year = data.frame(year)\n",
        "sales_data$time = year\n",
        "\n",
        "mnf = sort (unique (sales_data$manufact))\n",
        "mnf\n",
        "\n",
        "repeated_var = 1:30\n",
        "repeated_var\n",
        "\n",
        "sales_data = sales_data %>% mutate(mnf_ID =match(manufact, sort(unique(manufact))))\n",
        "colnames(sales_data)"
      ],
      "metadata": {
        "execution": {
          "iopub.status.busy": "2023-10-06T20:45:59.790013Z",
          "iopub.execute_input": "2023-10-06T20:45:59.791207Z",
          "iopub.status.idle": "2023-10-06T20:45:59.868566Z"
        },
        "trusted": true,
        "id": "vnoRJwqXx9l2",
        "outputId": "dd34f96d-0483-4e00-c4ec-cdb3805a6532"
      },
      "execution_count": null,
      "outputs": [
        {
          "output_type": "display_data",
          "data": {
            "text/html": "<style>\n.list-inline {list-style: none; margin:0; padding: 0}\n.list-inline>li {display: inline-block}\n.list-inline>li:not(:last-child)::after {content: \"\\00b7\"; padding: 0 .5ex}\n</style>\n<ol class=list-inline><li>1</li><li>2</li><li>3</li><li>4</li><li>5</li><li>6</li><li>7</li><li>8</li><li>9</li><li>10</li><li>11</li></ol>\n",
            "text/markdown": "1. 1\n2. 2\n3. 3\n4. 4\n5. 5\n6. 6\n7. 7\n8. 8\n9. 9\n10. 10\n11. 11\n\n\n",
            "text/latex": "\\begin{enumerate*}\n\\item 1\n\\item 2\n\\item 3\n\\item 4\n\\item 5\n\\item 6\n\\item 7\n\\item 8\n\\item 9\n\\item 10\n\\item 11\n\\end{enumerate*}\n",
            "text/plain": " [1]  1  2  3  4  5  6  7  8  9 10 11"
          },
          "metadata": {}
        },
        {
          "output_type": "display_data",
          "data": {
            "text/html": "<style>\n.list-inline {list-style: none; margin:0; padding: 0}\n.list-inline>li {display: inline-block}\n.list-inline>li:not(:last-child)::after {content: \"\\00b7\"; padding: 0 .5ex}\n</style>\n<ol class=list-inline><li>2014</li><li>2015</li><li>2015</li><li>2016</li><li>2017</li><li>2017</li><li>2018</li><li>2018</li><li>2021</li><li>2022</li><li>2022</li></ol>\n",
            "text/markdown": "1. 2014\n2. 2015\n3. 2015\n4. 2016\n5. 2017\n6. 2017\n7. 2018\n8. 2018\n9. 2021\n10. 2022\n11. 2022\n\n\n",
            "text/latex": "\\begin{enumerate*}\n\\item 2014\n\\item 2015\n\\item 2015\n\\item 2016\n\\item 2017\n\\item 2017\n\\item 2018\n\\item 2018\n\\item 2021\n\\item 2022\n\\item 2022\n\\end{enumerate*}\n",
            "text/plain": " [1] 2014 2015 2015 2016 2017 2017 2018 2018 2021 2022 2022"
          },
          "metadata": {}
        },
        {
          "output_type": "display_data",
          "data": {
            "text/html": "<style>\n.list-inline {list-style: none; margin:0; padding: 0}\n.list-inline>li {display: inline-block}\n.list-inline>li:not(:last-child)::after {content: \"\\00b7\"; padding: 0 .5ex}\n</style>\n<ol class=list-inline><li>'Acura'</li><li>'Audi'</li><li>'BMW'</li><li>'Buick'</li><li>'Cadillac'</li><li>'Chevrolet'</li><li>'Chrysler'</li><li>'Dodge'</li><li>'Ford'</li><li>'Honda'</li><li>'Hyundai'</li><li>'Infiniti'</li><li>'Jaguar'</li><li>'Jeep'</li><li>'Lexus'</li><li>'Lincoln'</li><li>'Mercedes-Benz'</li><li>'Mercury'</li><li>'Mitsubishi'</li><li>'Nissan'</li><li>'Oldsmobile'</li><li>'Plymouth'</li><li>'Pontiac'</li><li>'Porsche'</li><li>'Saab'</li><li>'Saturn'</li><li>'Subaru'</li><li>'Toyota'</li><li>'Volkswagen'</li><li>'Volvo'</li></ol>\n",
            "text/markdown": "1. 'Acura'\n2. 'Audi'\n3. 'BMW'\n4. 'Buick'\n5. 'Cadillac'\n6. 'Chevrolet'\n7. 'Chrysler'\n8. 'Dodge'\n9. 'Ford'\n10. 'Honda'\n11. 'Hyundai'\n12. 'Infiniti'\n13. 'Jaguar'\n14. 'Jeep'\n15. 'Lexus'\n16. 'Lincoln'\n17. 'Mercedes-Benz'\n18. 'Mercury'\n19. 'Mitsubishi'\n20. 'Nissan'\n21. 'Oldsmobile'\n22. 'Plymouth'\n23. 'Pontiac'\n24. 'Porsche'\n25. 'Saab'\n26. 'Saturn'\n27. 'Subaru'\n28. 'Toyota'\n29. 'Volkswagen'\n30. 'Volvo'\n\n\n",
            "text/latex": "\\begin{enumerate*}\n\\item 'Acura'\n\\item 'Audi'\n\\item 'BMW'\n\\item 'Buick'\n\\item 'Cadillac'\n\\item 'Chevrolet'\n\\item 'Chrysler'\n\\item 'Dodge'\n\\item 'Ford'\n\\item 'Honda'\n\\item 'Hyundai'\n\\item 'Infiniti'\n\\item 'Jaguar'\n\\item 'Jeep'\n\\item 'Lexus'\n\\item 'Lincoln'\n\\item 'Mercedes-Benz'\n\\item 'Mercury'\n\\item 'Mitsubishi'\n\\item 'Nissan'\n\\item 'Oldsmobile'\n\\item 'Plymouth'\n\\item 'Pontiac'\n\\item 'Porsche'\n\\item 'Saab'\n\\item 'Saturn'\n\\item 'Subaru'\n\\item 'Toyota'\n\\item 'Volkswagen'\n\\item 'Volvo'\n\\end{enumerate*}\n",
            "text/plain": " [1] \"Acura\"         \"Audi\"          \"BMW\"           \"Buick\"        \n [5] \"Cadillac\"      \"Chevrolet\"     \"Chrysler\"      \"Dodge\"        \n [9] \"Ford\"          \"Honda\"         \"Hyundai\"       \"Infiniti\"     \n[13] \"Jaguar\"        \"Jeep\"          \"Lexus\"         \"Lincoln\"      \n[17] \"Mercedes-Benz\" \"Mercury\"       \"Mitsubishi\"    \"Nissan\"       \n[21] \"Oldsmobile\"    \"Plymouth\"      \"Pontiac\"       \"Porsche\"      \n[25] \"Saab\"          \"Saturn\"        \"Subaru\"        \"Toyota\"       \n[29] \"Volkswagen\"    \"Volvo\"        "
          },
          "metadata": {}
        },
        {
          "output_type": "display_data",
          "data": {
            "text/html": "<style>\n.list-inline {list-style: none; margin:0; padding: 0}\n.list-inline>li {display: inline-block}\n.list-inline>li:not(:last-child)::after {content: \"\\00b7\"; padding: 0 .5ex}\n</style>\n<ol class=list-inline><li>1</li><li>2</li><li>3</li><li>4</li><li>5</li><li>6</li><li>7</li><li>8</li><li>9</li><li>10</li><li>11</li><li>12</li><li>13</li><li>14</li><li>15</li><li>16</li><li>17</li><li>18</li><li>19</li><li>20</li><li>21</li><li>22</li><li>23</li><li>24</li><li>25</li><li>26</li><li>27</li><li>28</li><li>29</li><li>30</li></ol>\n",
            "text/markdown": "1. 1\n2. 2\n3. 3\n4. 4\n5. 5\n6. 6\n7. 7\n8. 8\n9. 9\n10. 10\n11. 11\n12. 12\n13. 13\n14. 14\n15. 15\n16. 16\n17. 17\n18. 18\n19. 19\n20. 20\n21. 21\n22. 22\n23. 23\n24. 24\n25. 25\n26. 26\n27. 27\n28. 28\n29. 29\n30. 30\n\n\n",
            "text/latex": "\\begin{enumerate*}\n\\item 1\n\\item 2\n\\item 3\n\\item 4\n\\item 5\n\\item 6\n\\item 7\n\\item 8\n\\item 9\n\\item 10\n\\item 11\n\\item 12\n\\item 13\n\\item 14\n\\item 15\n\\item 16\n\\item 17\n\\item 18\n\\item 19\n\\item 20\n\\item 21\n\\item 22\n\\item 23\n\\item 24\n\\item 25\n\\item 26\n\\item 27\n\\item 28\n\\item 29\n\\item 30\n\\end{enumerate*}\n",
            "text/plain": " [1]  1  2  3  4  5  6  7  8  9 10 11 12 13 14 15 16 17 18 19 20 21 22 23 24 25\n[26] 26 27 28 29 30"
          },
          "metadata": {}
        },
        {
          "output_type": "display_data",
          "data": {
            "text/html": "<style>\n.list-inline {list-style: none; margin:0; padding: 0}\n.list-inline>li {display: inline-block}\n.list-inline>li:not(:last-child)::after {content: \"\\00b7\"; padding: 0 .5ex}\n</style>\n<ol class=list-inline><li>'manufact'</li><li>'model'</li><li>'sales'</li><li>'resale'</li><li>'type'</li><li>'price'</li><li>'engine_s'</li><li>'horsepow'</li><li>'wheelbas'</li><li>'width'</li><li>'length'</li><li>'curb_wgt'</li><li>'fuel_cap'</li><li>'mpg'</li><li>'Grp_Horse'</li><li>'time'</li><li>'mnf_ID'</li></ol>\n",
            "text/markdown": "1. 'manufact'\n2. 'model'\n3. 'sales'\n4. 'resale'\n5. 'type'\n6. 'price'\n7. 'engine_s'\n8. 'horsepow'\n9. 'wheelbas'\n10. 'width'\n11. 'length'\n12. 'curb_wgt'\n13. 'fuel_cap'\n14. 'mpg'\n15. 'Grp_Horse'\n16. 'time'\n17. 'mnf_ID'\n\n\n",
            "text/latex": "\\begin{enumerate*}\n\\item 'manufact'\n\\item 'model'\n\\item 'sales'\n\\item 'resale'\n\\item 'type'\n\\item 'price'\n\\item 'engine\\_s'\n\\item 'horsepow'\n\\item 'wheelbas'\n\\item 'width'\n\\item 'length'\n\\item 'curb\\_wgt'\n\\item 'fuel\\_cap'\n\\item 'mpg'\n\\item 'Grp\\_Horse'\n\\item 'time'\n\\item 'mnf\\_ID'\n\\end{enumerate*}\n",
            "text/plain": " [1] \"manufact\"  \"model\"     \"sales\"     \"resale\"    \"type\"      \"price\"    \n [7] \"engine_s\"  \"horsepow\"  \"wheelbas\"  \"width\"     \"length\"    \"curb_wgt\" \n[13] \"fuel_cap\"  \"mpg\"       \"Grp_Horse\" \"time\"      \"mnf_ID\"   "
          },
          "metadata": {}
        }
      ]
    },
    {
      "cell_type": "markdown",
      "source": [
        "**2. Consider the newly created data in 1(b) above**\n",
        "* **(a) Make the data to be in wide format. Describe the technique used**"
      ],
      "metadata": {
        "id": "UBlJw-Lux9l5"
      }
    },
    {
      "cell_type": "code",
      "source": [
        "# Convert data to wide format using pivot_wider function from tidyr\n",
        "library(tidyr)\n",
        "wide_data = pivot_wider(sales_data, names_from = mnf_ID, values_from = price)\n",
        "print(wide_data)"
      ],
      "metadata": {
        "execution": {
          "iopub.status.busy": "2023-10-06T20:45:59.871347Z",
          "iopub.execute_input": "2023-10-06T20:45:59.872862Z",
          "iopub.status.idle": "2023-10-06T20:45:59.969661Z"
        },
        "trusted": true,
        "id": "5lgCHfxNx9l6",
        "outputId": "8b9ea29b-9ac2-4b6b-ccbd-e5700c6a0475"
      },
      "execution_count": null,
      "outputs": [
        {
          "name": "stdout",
          "text": "\u001b[90m# A tibble: 157 × 45\u001b[39m\n   manufact  model    sales resale  type engine_s horsepow wheelbas width length\n   \u001b[3m\u001b[90m<chr>\u001b[39m\u001b[23m     \u001b[3m\u001b[90m<chr>\u001b[39m\u001b[23m    \u001b[3m\u001b[90m<dbl>\u001b[39m\u001b[23m  \u001b[3m\u001b[90m<dbl>\u001b[39m\u001b[23m \u001b[3m\u001b[90m<dbl>\u001b[39m\u001b[23m    \u001b[3m\u001b[90m<dbl>\u001b[39m\u001b[23m    \u001b[3m\u001b[90m<dbl>\u001b[39m\u001b[23m    \u001b[3m\u001b[90m<dbl>\u001b[39m\u001b[23m \u001b[3m\u001b[90m<dbl>\u001b[39m\u001b[23m  \u001b[3m\u001b[90m<dbl>\u001b[39m\u001b[23m\n\u001b[90m 1\u001b[39m Chevrolet Metro     21.9   5.16     0      1         55     93.1  62.6   149.\n\u001b[90m 2\u001b[39m Hyundai   Accent    41.2   5.86     0      1.5       92    107.   65.7   167.\n\u001b[90m 3\u001b[39m Saturn    SL        80.6   9.2      0      1.9      100    102.   66.4   177.\n\u001b[90m 4\u001b[39m Saturn    SC        24.5  10.6      0      1.9      100    102.   66.4   180 \n\u001b[90m 5\u001b[39m Acura     Integra   16.9  16.4      0      1.8      140    101.   67.3   172.\n\u001b[90m 6\u001b[39m Audi      A4        20.4  22.3      0      1.8      150    103.   68.2   178 \n\u001b[90m 7\u001b[39m Chevrolet Cavalier 146.    9.25     0      2.2      115    104.   67.9   181.\n\u001b[90m 8\u001b[39m Chevrolet Prizm     32.3   9.12     0      1.8      120     97.1  66.7   174.\n\u001b[90m 9\u001b[39m Chrysler  Cirrus    53.9  12.6      0      2        132    108    71     186 \n\u001b[90m10\u001b[39m Dodge     Neon      76.0   7.75     0      2        132    105    74.4   174.\n\u001b[90m# ℹ 147 more rows\u001b[39m\n\u001b[90m# ℹ 35 more variables: curb_wgt <dbl>, fuel_cap <dbl>, mpg <dbl>,\u001b[39m\n\u001b[90m#   Grp_Horse <dbl>, time <df[,1]>, `6` <dbl>, `11` <dbl>, `26` <dbl>,\u001b[39m\n\u001b[90m#   `1` <dbl>, `2` <dbl>, `7` <dbl>, `8` <dbl>, `9` <dbl>, `10` <dbl>,\u001b[39m\n\u001b[90m#   `14` <dbl>, `19` <dbl>, `18` <dbl>, `20` <dbl>, `21` <dbl>, `22` <dbl>,\u001b[39m\n\u001b[90m#   `23` <dbl>, `28` <dbl>, `29` <dbl>, `3` <dbl>, `4` <dbl>, `17` <dbl>,\u001b[39m\n\u001b[90m#   `25` <dbl>, `27` <dbl>, `30` <dbl>, `5` <dbl>, `12` <dbl>, `13` <dbl>, …\u001b[39m\n",
          "output_type": "stream"
        }
      ]
    },
    {
      "cell_type": "markdown",
      "source": [
        "**2(b) Make the data in 2 (a) to be in long format. Describe the technique used**"
      ],
      "metadata": {
        "id": "gw2S1svMx9l7"
      }
    },
    {
      "cell_type": "code",
      "source": [
        "# Convert data to long format using 'pivot_longer' function\n",
        "long_data <- pivot_longer(wide_data, cols = starts_with(\"manufact\"),\n",
        "                          names_to = \"mnf_ID\", values_to = \"Price\")\n",
        "print(long_data)\n"
      ],
      "metadata": {
        "execution": {
          "iopub.status.busy": "2023-10-06T20:45:59.972108Z",
          "iopub.execute_input": "2023-10-06T20:45:59.973384Z",
          "iopub.status.idle": "2023-10-06T20:46:00.063837Z"
        },
        "trusted": true,
        "id": "IuxH5xLbx9l8",
        "outputId": "029374a4-6a31-4481-ba6e-bc804edbccd2"
      },
      "execution_count": null,
      "outputs": [
        {
          "name": "stdout",
          "text": "\u001b[90m# A tibble: 157 × 46\u001b[39m\n   model    sales resale  type engine_s horsepow wheelbas width length curb_wgt\n   \u001b[3m\u001b[90m<chr>\u001b[39m\u001b[23m    \u001b[3m\u001b[90m<dbl>\u001b[39m\u001b[23m  \u001b[3m\u001b[90m<dbl>\u001b[39m\u001b[23m \u001b[3m\u001b[90m<dbl>\u001b[39m\u001b[23m    \u001b[3m\u001b[90m<dbl>\u001b[39m\u001b[23m    \u001b[3m\u001b[90m<dbl>\u001b[39m\u001b[23m    \u001b[3m\u001b[90m<dbl>\u001b[39m\u001b[23m \u001b[3m\u001b[90m<dbl>\u001b[39m\u001b[23m  \u001b[3m\u001b[90m<dbl>\u001b[39m\u001b[23m    \u001b[3m\u001b[90m<dbl>\u001b[39m\u001b[23m\n\u001b[90m 1\u001b[39m Metro     21.9   5.16     0      1         55     93.1  62.6   149.     1.90\n\u001b[90m 2\u001b[39m Accent    41.2   5.86     0      1.5       92    107.   65.7   167.     2.24\n\u001b[90m 3\u001b[39m SL        80.6   9.2      0      1.9      100    102.   66.4   177.     3.39\n\u001b[90m 4\u001b[39m SC        24.5  10.6      0      1.9      100    102.   66.4   180      2.37\n\u001b[90m 5\u001b[39m Integra   16.9  16.4      0      1.8      140    101.   67.3   172.     2.64\n\u001b[90m 6\u001b[39m A4        20.4  22.3      0      1.8      150    103.   68.2   178      3.00\n\u001b[90m 7\u001b[39m Cavalier 146.    9.25     0      2.2      115    104.   67.9   181.     2.68\n\u001b[90m 8\u001b[39m Prizm     32.3   9.12     0      1.8      120     97.1  66.7   174.     2.40\n\u001b[90m 9\u001b[39m Cirrus    53.9  12.6      0      2        132    108    71     186      2.91\n\u001b[90m10\u001b[39m Neon      76.0   7.75     0      2        132    105    74.4   174.     2.57\n\u001b[90m# ℹ 147 more rows\u001b[39m\n\u001b[90m# ℹ 36 more variables: fuel_cap <dbl>, mpg <dbl>, Grp_Horse <dbl>,\u001b[39m\n\u001b[90m#   time <df[,1]>, `6` <dbl>, `11` <dbl>, `26` <dbl>, `1` <dbl>, `2` <dbl>,\u001b[39m\n\u001b[90m#   `7` <dbl>, `8` <dbl>, `9` <dbl>, `10` <dbl>, `14` <dbl>, `19` <dbl>,\u001b[39m\n\u001b[90m#   `18` <dbl>, `20` <dbl>, `21` <dbl>, `22` <dbl>, `23` <dbl>, `28` <dbl>,\u001b[39m\n\u001b[90m#   `29` <dbl>, `3` <dbl>, `4` <dbl>, `17` <dbl>, `25` <dbl>, `27` <dbl>,\u001b[39m\n\u001b[90m#   `30` <dbl>, `5` <dbl>, `12` <dbl>, `13` <dbl>, `15` <dbl>, `16` <dbl>, …\u001b[39m\n",
          "output_type": "stream"
        }
      ]
    },
    {
      "cell_type": "markdown",
      "source": [
        "**2(C) Generate 2 variables/observations of your choice and add them to 1b**"
      ],
      "metadata": {
        "id": "jE8rZO-Nx9l9"
      }
    },
    {
      "cell_type": "code",
      "source": [],
      "metadata": {
        "id": "pPdWq28Tx9l-"
      },
      "execution_count": null,
      "outputs": []
    },
    {
      "cell_type": "markdown",
      "source": [
        "**2(d) Provide appropriate descriptive summaries of any two variables using data in 2(a).\n",
        "Also provide interpretation**"
      ],
      "metadata": {
        "id": "TM0gk9PFx9l-"
      }
    },
    {
      "cell_type": "code",
      "source": [
        "summary(sales_data)\n",
        "summary_sales <- summary(sales_data$sales)\n",
        "summary_sales\n"
      ],
      "metadata": {
        "execution": {
          "iopub.status.busy": "2023-10-06T20:53:04.044037Z",
          "iopub.execute_input": "2023-10-06T20:53:04.045602Z",
          "iopub.status.idle": "2023-10-06T20:53:04.078039Z"
        },
        "trusted": true,
        "id": "ks5fYMi8x9l_",
        "outputId": "c84e53a1-7825-447b-e2e2-98b14cd987ea"
      },
      "execution_count": null,
      "outputs": [
        {
          "output_type": "display_data",
          "data": {
            "text/plain": "   manufact            model               sales            resale     \n Length:157         Length:157         Min.   :  0.11   Min.   : 5.16  \n Class :character   Class :character   1st Qu.: 14.35   1st Qu.:12.54  \n Mode  :character   Mode  :character   Median : 31.15   Median :17.71  \n                                       Mean   : 53.91   Mean   :18.07  \n                                       3rd Qu.: 67.96   3rd Qu.:18.14  \n                                       Max.   :540.56   Max.   :67.55  \n      type          price           engine_s        horsepow    \n Min.   :0.00   Min.   : 9.235   Min.   :1.000   Min.   : 55.0  \n 1st Qu.:0.00   1st Qu.:18.575   1st Qu.:2.300   1st Qu.:150.0  \n Median :0.00   Median :24.340   Median :3.000   Median :185.0  \n Mean   :0.26   Mean   :27.646   Mean   :3.054   Mean   :186.6  \n 3rd Qu.:0.26   3rd Qu.:31.930   3rd Qu.:3.500   3rd Qu.:215.0  \n Max.   :1.00   Max.   :85.500   Max.   :8.000   Max.   :450.0  \n    wheelbas         width           length         curb_wgt    \n Min.   : 92.6   Min.   :62.60   Min.   :149.4   Min.   :1.895  \n 1st Qu.:103.2   1st Qu.:68.50   1st Qu.:178.2   1st Qu.:2.998  \n Median :107.0   Median :70.90   Median :187.8   Median :3.389  \n Mean   :107.5   Mean   :71.19   Mean   :187.8   Mean   :3.393  \n 3rd Qu.:111.6   3rd Qu.:73.40   3rd Qu.:196.1   3rd Qu.:3.770  \n Max.   :138.7   Max.   :79.90   Max.   :224.5   Max.   :5.572  \n    fuel_cap          mpg          Grp_Horse         time.year     \n Min.   :10.30   Min.   :15.00   Min.   :1.000   Min.   :2014.000  \n 1st Qu.:15.90   1st Qu.:21.00   1st Qu.:2.000   1st Qu.:2015.000  \n Median :17.50   Median :24.00   Median :3.000   Median :2015.000  \n Mean   :18.05   Mean   :23.76   Mean   :3.311   Mean   :2015.949  \n 3rd Qu.:19.50   3rd Qu.:26.00   3rd Qu.:4.000   3rd Qu.:2017.000  \n Max.   :32.00   Max.   :45.00   Max.   :9.000   Max.   :2022.000  \n     mnf_ID     \n Min.   : 1.00  \n 1st Qu.: 8.00  \n Median :16.00  \n Mean   :15.52  \n 3rd Qu.:22.00  \n Max.   :30.00  "
          },
          "metadata": {}
        },
        {
          "output_type": "display_data",
          "data": {
            "text/plain": "   Min. 1st Qu.  Median    Mean 3rd Qu.    Max. \n   0.11   14.35   31.15   53.91   67.96  540.56 "
          },
          "metadata": {}
        }
      ]
    },
    {
      "cell_type": "markdown",
      "source": [
        "**Sales:**\n",
        "\n",
        "The minimum price value is 0.11.\n",
        "The first quartile (25th percentile) is 14.35.\n",
        "The median (50th percentile) is 31.15.\n",
        "The mean (average) price value is 53.91.\n",
        "The third quartile (75th percentile) is 67.96.\n",
        "The maximum price value is 540.56.\n",
        "Interpretation:\n",
        "\n",
        "Minimum: The lowest price value in the dataset is 0.11, indicating that there is at least one entry with a very low price.\n",
        "Quartiles: These quartiles divide the data into four equal parts. The first quartile (14.35) represents the 25th percentile, the median (31.15) is the 50th percentile, and the third quartile (67.96) is the 75th percentile.\n",
        "Mean: The average price value across all observations is 53.91. This value is influenced by the distribution of all price figures.\n",
        "Maximum: The highest price value in the dataset is 540.56, indicating that there is at least one entry with a very high price.\n",
        "\n",
        "**Price:**\n",
        "\n",
        "Mean: The average price of cars in this column is 0.26.\n",
        "Min and Max: The prices range from 0.00 to 1.00.\n",
        "Interpretation: The mean value of 0.26 indicates that, on average, cars have a price around this value. The range from 0.00 to 1.00 suggests that the dataset may use a normalized or scaled representation of prices, where 1.00 could represent a maximum value or a specific unit."
      ],
      "metadata": {
        "id": "_V91iUCJx9mA"
      }
    }
  ]
}